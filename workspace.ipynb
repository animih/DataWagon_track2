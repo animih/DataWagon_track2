{
 "cells": [
  {
   "cell_type": "code",
   "execution_count": 1,
   "metadata": {
    "ExecuteTime": {
     "end_time": "2023-11-11T20:33:02.501312100Z",
     "start_time": "2023-11-11T20:33:02.451390Z"
    }
   },
   "outputs": [],
   "source": [
    "import pandas as pd\n",
    "import numpy as np\n"
   ]
  },
  {
   "cell_type": "code",
   "execution_count": 2,
   "metadata": {
    "ExecuteTime": {
     "end_time": "2023-11-11T20:33:05.208015700Z",
     "start_time": "2023-11-11T20:33:05.052575Z"
    },
    "pycharm": {
     "name": "#%%\n"
    }
   },
   "outputs": [],
   "source": [
    "from metrics_f1 import calc_f1_score"
   ]
  },
  {
   "cell_type": "code",
   "execution_count": 19,
   "metadata": {},
   "outputs": [
    {
     "name": "stdout",
     "output_type": "stream",
     "text": [
      "Requirement already satisfied: pyarrow in /opt/conda/lib/python3.8/site-packages (14.0.1)\n",
      "Requirement already satisfied: numpy>=1.16.6 in /opt/conda/lib/python3.8/site-packages (from pyarrow) (1.20.3)\n",
      "\u001b[33mWARNING: Running pip as the 'root' user can result in broken permissions and conflicting behaviour with the system package manager. It is recommended to use a virtual environment instead: https://pip.pypa.io/warnings/venv\u001b[0m\n"
     ]
    }
   ],
   "source": [
    "!pip install pyarrow"
   ]
  },
  {
   "cell_type": "markdown",
   "metadata": {},
   "source": [
    "# Препроцессинг данных"
   ]
  },
  {
   "cell_type": "code",
   "execution_count": 3,
   "metadata": {
    "ExecuteTime": {
     "end_time": "2023-11-11T20:33:10.349830100Z",
     "start_time": "2023-11-11T20:33:10.192664Z"
    },
    "pycharm": {
     "name": "#%%\n"
    }
   },
   "outputs": [],
   "source": [
    "path_train = r\"./train\""
   ]
  },
  {
   "cell_type": "code",
   "execution_count": 4,
   "metadata": {
    "ExecuteTime": {
     "end_time": "2023-11-11T20:33:13.758382800Z",
     "start_time": "2023-11-11T20:33:11.542437500Z"
    },
    "pycharm": {
     "name": "#%%\n"
    }
   },
   "outputs": [],
   "source": [
    "# данные по дислокации\n",
    "dislok = pd.read_parquet(path_train + '/dislok_wagons.parquet').convert_dtypes()\n",
    "# данные по текущим ремонтам\n",
    "pr_rem = pd.read_parquet(path_train + '/pr_rems.parquet').convert_dtypes()\n",
    "# список вагонов с остаточным пробегом на момент прогноза\n",
    "wag_prob = pd.read_parquet(path_train + '/wagons_probeg_ownersip.parquet').convert_dtypes()\n",
    " # параметры вагона\n",
    "wag_param = pd.read_parquet(path_train + '/wag_params.parquet').convert_dtypes()\n",
    "wag_param = wag_param.drop_duplicates(subset='wagnum', keep='last')\n",
    "# таргет по прогноза выбытия вагонов в ПР на месяц и на 10 дней\n",
    "target = pd.read_csv(path_train +'/target/y_train.csv').convert_dtypes()\n",
    " # текущие ремонты вагонов\n",
    "tr_rem = pd.read_parquet(path_train + '/tr_rems.parquet').convert_dtypes()"
   ]
  },
  {
   "cell_type": "code",
   "execution_count": 5,
   "metadata": {
    "ExecuteTime": {
     "end_time": "2023-11-11T20:33:13.798130900Z",
     "start_time": "2023-11-11T20:33:13.742475600Z"
    }
   },
   "outputs": [],
   "source": [
    "month_to_predict = pd.to_datetime('2022-12-01')"
   ]
  },
  {
   "cell_type": "markdown",
   "metadata": {},
   "source": [
    "## Подготовка датафрейма дислокации\n",
    "Здесь мы хотим преобразовать временные данные по Дислокации в данные по одному ключу-номеру вагона, для этого мы набираем акутальную информацию (с последнего ремонта капитального или деповского) :\n",
    "- Весь пройденный путь\n",
    "- Весь пройденный путь (груженный)\n",
    "- Время с последнего ремонта\n",
    "- Остаточный проблег"
   ]
  },
  {
   "cell_type": "code",
   "execution_count": 6,
   "metadata": {
    "ExecuteTime": {
     "end_time": "2023-11-11T20:33:16.666541700Z",
     "start_time": "2023-11-11T20:33:16.565537400Z"
    }
   },
   "outputs": [
    {
     "data": {
      "text/html": [
       "<div>\n",
       "<style scoped>\n",
       "    .dataframe tbody tr th:only-of-type {\n",
       "        vertical-align: middle;\n",
       "    }\n",
       "\n",
       "    .dataframe tbody tr th {\n",
       "        vertical-align: top;\n",
       "    }\n",
       "\n",
       "    .dataframe thead th {\n",
       "        text-align: right;\n",
       "    }\n",
       "</style>\n",
       "<table border=\"1\" class=\"dataframe\">\n",
       "  <thead>\n",
       "    <tr style=\"text-align: right;\">\n",
       "      <th></th>\n",
       "      <th>plan_date</th>\n",
       "      <th>wagnum</th>\n",
       "      <th>date_kap</th>\n",
       "      <th>date_dep</th>\n",
       "      <th>kod_vrab</th>\n",
       "      <th>date_pl_rem</th>\n",
       "      <th>id_road_disl</th>\n",
       "      <th>st_id_dest</th>\n",
       "      <th>id_road_dest</th>\n",
       "      <th>st_id_send</th>\n",
       "      <th>id_road_send</th>\n",
       "      <th>ost_prob</th>\n",
       "      <th>isload</th>\n",
       "      <th>fr_id</th>\n",
       "      <th>last_fr_id</th>\n",
       "      <th>distance</th>\n",
       "    </tr>\n",
       "  </thead>\n",
       "  <tbody>\n",
       "    <tr>\n",
       "      <th>0</th>\n",
       "      <td>2022-08-01</td>\n",
       "      <td>1071</td>\n",
       "      <td>NaT</td>\n",
       "      <td>2020-02-16</td>\n",
       "      <td>0</td>\n",
       "      <td>2023-02-16</td>\n",
       "      <td>42</td>\n",
       "      <td>22</td>\n",
       "      <td>42</td>\n",
       "      <td>11470</td>\n",
       "      <td>42</td>\n",
       "      <td>36899</td>\n",
       "      <td>0</td>\n",
       "      <td>5032</td>\n",
       "      <td>1413</td>\n",
       "      <td>-1</td>\n",
       "    </tr>\n",
       "    <tr>\n",
       "      <th>1</th>\n",
       "      <td>2022-08-02</td>\n",
       "      <td>1071</td>\n",
       "      <td>NaT</td>\n",
       "      <td>2020-02-16</td>\n",
       "      <td>0</td>\n",
       "      <td>2023-02-16</td>\n",
       "      <td>42</td>\n",
       "      <td>11663</td>\n",
       "      <td>0</td>\n",
       "      <td>11470</td>\n",
       "      <td>42</td>\n",
       "      <td>36899</td>\n",
       "      <td>1</td>\n",
       "      <td>1204</td>\n",
       "      <td>1204</td>\n",
       "      <td>998</td>\n",
       "    </tr>\n",
       "    <tr>\n",
       "      <th>2</th>\n",
       "      <td>2022-08-03</td>\n",
       "      <td>1071</td>\n",
       "      <td>NaT</td>\n",
       "      <td>2020-02-16</td>\n",
       "      <td>0</td>\n",
       "      <td>2023-02-16</td>\n",
       "      <td>42</td>\n",
       "      <td>11663</td>\n",
       "      <td>0</td>\n",
       "      <td>11470</td>\n",
       "      <td>42</td>\n",
       "      <td>36711</td>\n",
       "      <td>1</td>\n",
       "      <td>1204</td>\n",
       "      <td>1204</td>\n",
       "      <td>989</td>\n",
       "    </tr>\n",
       "    <tr>\n",
       "      <th>3</th>\n",
       "      <td>2022-08-04</td>\n",
       "      <td>1071</td>\n",
       "      <td>NaT</td>\n",
       "      <td>2020-02-16</td>\n",
       "      <td>0</td>\n",
       "      <td>2023-02-16</td>\n",
       "      <td>42</td>\n",
       "      <td>11663</td>\n",
       "      <td>0</td>\n",
       "      <td>11470</td>\n",
       "      <td>42</td>\n",
       "      <td>36711</td>\n",
       "      <td>1</td>\n",
       "      <td>1204</td>\n",
       "      <td>1204</td>\n",
       "      <td>939</td>\n",
       "    </tr>\n",
       "    <tr>\n",
       "      <th>4</th>\n",
       "      <td>2022-08-05</td>\n",
       "      <td>1071</td>\n",
       "      <td>NaT</td>\n",
       "      <td>2020-02-16</td>\n",
       "      <td>0</td>\n",
       "      <td>2023-02-16</td>\n",
       "      <td>42</td>\n",
       "      <td>11663</td>\n",
       "      <td>0</td>\n",
       "      <td>11470</td>\n",
       "      <td>42</td>\n",
       "      <td>36711</td>\n",
       "      <td>1</td>\n",
       "      <td>1204</td>\n",
       "      <td>1204</td>\n",
       "      <td>963</td>\n",
       "    </tr>\n",
       "  </tbody>\n",
       "</table>\n",
       "</div>"
      ],
      "text/plain": [
       "   plan_date  wagnum date_kap   date_dep  kod_vrab date_pl_rem  id_road_disl  \\\n",
       "0 2022-08-01    1071      NaT 2020-02-16         0  2023-02-16            42   \n",
       "1 2022-08-02    1071      NaT 2020-02-16         0  2023-02-16            42   \n",
       "2 2022-08-03    1071      NaT 2020-02-16         0  2023-02-16            42   \n",
       "3 2022-08-04    1071      NaT 2020-02-16         0  2023-02-16            42   \n",
       "4 2022-08-05    1071      NaT 2020-02-16         0  2023-02-16            42   \n",
       "\n",
       "   st_id_dest  id_road_dest  st_id_send  id_road_send  ost_prob  isload  \\\n",
       "0          22            42       11470            42     36899       0   \n",
       "1       11663             0       11470            42     36899       1   \n",
       "2       11663             0       11470            42     36711       1   \n",
       "3       11663             0       11470            42     36711       1   \n",
       "4       11663             0       11470            42     36711       1   \n",
       "\n",
       "   fr_id  last_fr_id  distance  \n",
       "0   5032        1413        -1  \n",
       "1   1204        1204       998  \n",
       "2   1204        1204       989  \n",
       "3   1204        1204       939  \n",
       "4   1204        1204       963  "
      ]
     },
     "execution_count": 6,
     "metadata": {},
     "output_type": "execute_result"
    }
   ],
   "source": [
    "dislok.head()"
   ]
  },
  {
   "cell_type": "code",
   "execution_count": 7,
   "metadata": {
    "ExecuteTime": {
     "end_time": "2023-11-11T20:33:18.588630400Z",
     "start_time": "2023-11-11T20:33:18.476255200Z"
    }
   },
   "outputs": [
    {
     "data": {
      "text/plain": [
       "numpy.datetime64('2013-07-20')"
      ]
     },
     "execution_count": 7,
     "metadata": {},
     "output_type": "execute_result"
    }
   ],
   "source": [
    "date_min = min( dislok.plan_date.min(), dislok.date_dep.min(), dislok.date_pl_rem.min() )\n",
    "date_min = np.datetime64(date_min).astype('datetime64[D]')\n",
    "date_min # время относительно которого будет считаться дельта для дат, нужно для перевода в численный формат"
   ]
  },
  {
   "cell_type": "code",
   "execution_count": 8,
   "metadata": {},
   "outputs": [
    {
     "data": {
      "text/html": [
       "<div>\n",
       "<style scoped>\n",
       "    .dataframe tbody tr th:only-of-type {\n",
       "        vertical-align: middle;\n",
       "    }\n",
       "\n",
       "    .dataframe tbody tr th {\n",
       "        vertical-align: top;\n",
       "    }\n",
       "\n",
       "    .dataframe thead th {\n",
       "        text-align: right;\n",
       "    }\n",
       "</style>\n",
       "<table border=\"1\" class=\"dataframe\">\n",
       "  <thead>\n",
       "    <tr style=\"text-align: right;\">\n",
       "      <th></th>\n",
       "      <th>wagnum</th>\n",
       "      <th>plan_date</th>\n",
       "      <th>distance_since_kap</th>\n",
       "      <th>distance_since_dep</th>\n",
       "      <th>last_kap</th>\n",
       "      <th>last_dep</th>\n",
       "      <th>date_pl_rem</th>\n",
       "      <th>ost_probeg</th>\n",
       "      <th>distance_since_kap_loaded</th>\n",
       "      <th>distance_since_dep_loaded</th>\n",
       "    </tr>\n",
       "  </thead>\n",
       "  <tbody>\n",
       "    <tr>\n",
       "      <th>0</th>\n",
       "      <td>0</td>\n",
       "      <td>2022-11-30</td>\n",
       "      <td>73178</td>\n",
       "      <td>73178</td>\n",
       "      <td>16</td>\n",
       "      <td>2482</td>\n",
       "      <td>3577</td>\n",
       "      <td>65850</td>\n",
       "      <td>1347</td>\n",
       "      <td>1347</td>\n",
       "    </tr>\n",
       "    <tr>\n",
       "      <th>1</th>\n",
       "      <td>1</td>\n",
       "      <td>2022-11-30</td>\n",
       "      <td>152623</td>\n",
       "      <td>152623</td>\n",
       "      <td>2993</td>\n",
       "      <td>1911</td>\n",
       "      <td>3999</td>\n",
       "      <td>98109</td>\n",
       "      <td>43000</td>\n",
       "      <td>43000</td>\n",
       "    </tr>\n",
       "    <tr>\n",
       "      <th>2</th>\n",
       "      <td>2</td>\n",
       "      <td>2022-11-30</td>\n",
       "      <td>147132</td>\n",
       "      <td>147132</td>\n",
       "      <td>-1602</td>\n",
       "      <td>3000</td>\n",
       "      <td>4048</td>\n",
       "      <td>59309</td>\n",
       "      <td>49612</td>\n",
       "      <td>49612</td>\n",
       "    </tr>\n",
       "    <tr>\n",
       "      <th>3</th>\n",
       "      <td>3</td>\n",
       "      <td>2022-11-30</td>\n",
       "      <td>103608</td>\n",
       "      <td>103608</td>\n",
       "      <td>-1313</td>\n",
       "      <td>2987</td>\n",
       "      <td>3908</td>\n",
       "      <td>67032</td>\n",
       "      <td>75400</td>\n",
       "      <td>75400</td>\n",
       "    </tr>\n",
       "    <tr>\n",
       "      <th>4</th>\n",
       "      <td>4</td>\n",
       "      <td>2022-11-30</td>\n",
       "      <td>5094</td>\n",
       "      <td>5094</td>\n",
       "      <td>-1307</td>\n",
       "      <td>3053</td>\n",
       "      <td>4149</td>\n",
       "      <td>108915</td>\n",
       "      <td>4866</td>\n",
       "      <td>4866</td>\n",
       "    </tr>\n",
       "  </tbody>\n",
       "</table>\n",
       "</div>"
      ],
      "text/plain": [
       "   wagnum  plan_date  distance_since_kap  distance_since_dep  last_kap  \\\n",
       "0       0 2022-11-30               73178               73178        16   \n",
       "1       1 2022-11-30              152623              152623      2993   \n",
       "2       2 2022-11-30              147132              147132     -1602   \n",
       "3       3 2022-11-30              103608              103608     -1313   \n",
       "4       4 2022-11-30                5094                5094     -1307   \n",
       "\n",
       "   last_dep  date_pl_rem  ost_probeg  distance_since_kap_loaded  \\\n",
       "0      2482         3577       65850                       1347   \n",
       "1      1911         3999       98109                      43000   \n",
       "2      3000         4048       59309                      49612   \n",
       "3      2987         3908       67032                      75400   \n",
       "4      3053         4149      108915                       4866   \n",
       "\n",
       "   distance_since_dep_loaded  \n",
       "0                       1347  \n",
       "1                      43000  \n",
       "2                      49612  \n",
       "3                      75400  \n",
       "4                       4866  "
      ]
     },
     "execution_count": 8,
     "metadata": {},
     "output_type": "execute_result"
    }
   ],
   "source": [
    "from IPython.display import clear_output\n",
    "\n",
    "dislok_prep = dislok[['wagnum', 'plan_date']][dislok.plan_date < month_to_predict].groupby('wagnum', as_index=False).max()\n",
    "\n",
    "dislok_prep['distance_since_kap'] = 0\n",
    "dislok_prep['distance_since_dep'] = 0\n",
    "dislok_prep['last_kap'] = 0\n",
    "dislok_prep['last_dep'] = 0\n",
    "dislok_prep['date_pl_rem'] = 0\n",
    "dislok_prep['ost_probeg'] = 0\n",
    "\n",
    "dislok_prep['distance_since_kap_loaded'] = 0\n",
    "dislok_prep['distance_since_dep_loaded'] = 0\n",
    "\n",
    "for wagnum in dislok_prep.index:\n",
    "    print(f'runing {wagnum} out of {len(dislok_prep.index)}')\n",
    "    tmp_df = dislok.loc[(dislok.wagnum == wagnum) \\\n",
    "                        & (dislok.plan_date < month_to_predict)\n",
    "                        & (dislok.distance >= 0)]\n",
    "    \n",
    "    last_kap = tmp_df.date_kap.max()\n",
    "    last_dep = tmp_df.date_dep.max()\n",
    "    \n",
    "    dislok_prep.at[wagnum, 'date_pl_rem'] = (tmp_df.date_pl_rem.max().to_numpy().astype('datetime64[D]') - date_min).astype('timedelta64[D]').astype('float')\n",
    "    \n",
    "    if pd.isnull(last_kap):\n",
    "        last_kap = tmp_df.plan_date.min()\n",
    "    if pd.isnull(last_dep):\n",
    "        last_dep = tmp_df.plan_date.min()\n",
    "    \n",
    "    dislok_prep.at[wagnum, 'distance_since_kap'] = tmp_df.loc[tmp_df.plan_date >= last_kap].distance.sum()\n",
    "    dislok_prep.at[wagnum, 'distance_since_dep'] = tmp_df.loc[tmp_df.plan_date >= last_dep].distance.sum()\n",
    "    dislok_prep.at[wagnum, 'distance_since_kap_loaded'] = tmp_df.loc[(tmp_df.plan_date >= last_kap) \\\n",
    "                                                                    & (tmp_df.isload == 1)].distance.sum()\n",
    "    dislok_prep.at[wagnum, 'distance_since_dep_loaded'] = tmp_df.loc[(tmp_df.plan_date >= last_dep) \\\n",
    "                                                                    & (tmp_df.isload == 1)].distance.sum()\n",
    "    dislok_prep.at[wagnum, 'last_kap'] = (last_kap.to_numpy().astype('datetime64[D]') - date_min).astype('timedelta64[D]').astype('float')\n",
    "    dislok_prep.at[wagnum, 'last_dep'] = (last_dep.to_numpy().astype('datetime64[D]') - date_min).astype('timedelta64[D]').astype('float')\n",
    "    tmp_df = tmp_df.loc[tmp_df.ost_prob.apply(lambda x: type(x) == int)]\n",
    "    if len(tmp_df) > 0:\n",
    "        dislok_prep.at[wagnum, 'ost_probeg'] = tmp_df.loc[tmp_df.plan_date > min(last_kap, last_dep)].ost_prob.min()\n",
    "    else:\n",
    "        dislok_prep.at[wagnum, 'ost_probeg'] = 1e8\n",
    "    clear_output()\n",
    "dislok_prep.head()"
   ]
  },
  {
   "cell_type": "markdown",
   "metadata": {
    "collapsed": false
   },
   "source": [
    "## Подготовка таргет-данных"
   ]
  },
  {
   "cell_type": "code",
   "execution_count": 9,
   "metadata": {
    "ExecuteTime": {
     "end_time": "2023-11-11T21:16:01.599207700Z",
     "start_time": "2023-11-11T21:16:01.520372300Z"
    }
   },
   "outputs": [],
   "source": [
    "target.month = pd.to_datetime(target.month)\n",
    "target = target[target.month == month_to_predict][['wagnum','target_month','target_day']]"
   ]
  },
  {
   "cell_type": "code",
   "execution_count": 10,
   "metadata": {
    "ExecuteTime": {
     "end_time": "2023-11-11T21:16:03.445722500Z",
     "start_time": "2023-11-11T21:16:03.324166Z"
    }
   },
   "outputs": [],
   "source": [
    "wagons = np.intersect1d(target.wagnum.to_numpy(), dislok_prep.wagnum.to_numpy())"
   ]
  },
  {
   "cell_type": "code",
   "execution_count": 11,
   "metadata": {
    "ExecuteTime": {
     "end_time": "2023-11-11T21:16:05.242088400Z",
     "start_time": "2023-11-11T21:16:05.123058900Z"
    }
   },
   "outputs": [],
   "source": [
    "dislok_slice = dislok_prep.loc[dislok_prep.wagnum.isin(wagons)].sort_values(by=['wagnum'])\n",
    "target_slice = target.loc[target.wagnum.isin(wagons)].sort_values(by=['wagnum'])"
   ]
  },
  {
   "cell_type": "code",
   "execution_count": 12,
   "metadata": {
    "ExecuteTime": {
     "end_time": "2023-11-11T21:16:07.310321400Z",
     "start_time": "2023-11-11T21:16:07.196023300Z"
    }
   },
   "outputs": [
    {
     "data": {
      "text/html": [
       "<div>\n",
       "<style scoped>\n",
       "    .dataframe tbody tr th:only-of-type {\n",
       "        vertical-align: middle;\n",
       "    }\n",
       "\n",
       "    .dataframe tbody tr th {\n",
       "        vertical-align: top;\n",
       "    }\n",
       "\n",
       "    .dataframe thead th {\n",
       "        text-align: right;\n",
       "    }\n",
       "</style>\n",
       "<table border=\"1\" class=\"dataframe\">\n",
       "  <thead>\n",
       "    <tr style=\"text-align: right;\">\n",
       "      <th></th>\n",
       "      <th>wagnum</th>\n",
       "      <th>target_month</th>\n",
       "      <th>target_day</th>\n",
       "    </tr>\n",
       "  </thead>\n",
       "  <tbody>\n",
       "    <tr>\n",
       "      <th>200200</th>\n",
       "      <td>0</td>\n",
       "      <td>0</td>\n",
       "      <td>0</td>\n",
       "    </tr>\n",
       "    <tr>\n",
       "      <th>200507</th>\n",
       "      <td>1</td>\n",
       "      <td>0</td>\n",
       "      <td>0</td>\n",
       "    </tr>\n",
       "    <tr>\n",
       "      <th>197931</th>\n",
       "      <td>2</td>\n",
       "      <td>0</td>\n",
       "      <td>0</td>\n",
       "    </tr>\n",
       "    <tr>\n",
       "      <th>196022</th>\n",
       "      <td>3</td>\n",
       "      <td>0</td>\n",
       "      <td>0</td>\n",
       "    </tr>\n",
       "    <tr>\n",
       "      <th>201174</th>\n",
       "      <td>4</td>\n",
       "      <td>0</td>\n",
       "      <td>0</td>\n",
       "    </tr>\n",
       "  </tbody>\n",
       "</table>\n",
       "</div>"
      ],
      "text/plain": [
       "        wagnum  target_month  target_day\n",
       "200200       0             0           0\n",
       "200507       1             0           0\n",
       "197931       2             0           0\n",
       "196022       3             0           0\n",
       "201174       4             0           0"
      ]
     },
     "execution_count": 12,
     "metadata": {},
     "output_type": "execute_result"
    }
   ],
   "source": [
    "target_slice.head()"
   ]
  },
  {
   "cell_type": "code",
   "execution_count": 13,
   "metadata": {
    "ExecuteTime": {
     "end_time": "2023-11-11T21:16:10.293291200Z",
     "start_time": "2023-11-11T21:16:10.261241Z"
    }
   },
   "outputs": [
    {
     "data": {
      "text/html": [
       "<div>\n",
       "<style scoped>\n",
       "    .dataframe tbody tr th:only-of-type {\n",
       "        vertical-align: middle;\n",
       "    }\n",
       "\n",
       "    .dataframe tbody tr th {\n",
       "        vertical-align: top;\n",
       "    }\n",
       "\n",
       "    .dataframe thead th {\n",
       "        text-align: right;\n",
       "    }\n",
       "</style>\n",
       "<table border=\"1\" class=\"dataframe\">\n",
       "  <thead>\n",
       "    <tr style=\"text-align: right;\">\n",
       "      <th></th>\n",
       "      <th>wagnum</th>\n",
       "      <th>plan_date</th>\n",
       "      <th>distance_since_kap</th>\n",
       "      <th>distance_since_dep</th>\n",
       "      <th>last_kap</th>\n",
       "      <th>last_dep</th>\n",
       "      <th>date_pl_rem</th>\n",
       "      <th>ost_probeg</th>\n",
       "      <th>distance_since_kap_loaded</th>\n",
       "      <th>distance_since_dep_loaded</th>\n",
       "    </tr>\n",
       "  </thead>\n",
       "  <tbody>\n",
       "    <tr>\n",
       "      <th>0</th>\n",
       "      <td>0</td>\n",
       "      <td>2022-11-30</td>\n",
       "      <td>73178</td>\n",
       "      <td>73178</td>\n",
       "      <td>16</td>\n",
       "      <td>2482</td>\n",
       "      <td>3577</td>\n",
       "      <td>65850</td>\n",
       "      <td>1347</td>\n",
       "      <td>1347</td>\n",
       "    </tr>\n",
       "    <tr>\n",
       "      <th>1</th>\n",
       "      <td>1</td>\n",
       "      <td>2022-11-30</td>\n",
       "      <td>152623</td>\n",
       "      <td>152623</td>\n",
       "      <td>2993</td>\n",
       "      <td>1911</td>\n",
       "      <td>3999</td>\n",
       "      <td>98109</td>\n",
       "      <td>43000</td>\n",
       "      <td>43000</td>\n",
       "    </tr>\n",
       "    <tr>\n",
       "      <th>2</th>\n",
       "      <td>2</td>\n",
       "      <td>2022-11-30</td>\n",
       "      <td>147132</td>\n",
       "      <td>147132</td>\n",
       "      <td>-1602</td>\n",
       "      <td>3000</td>\n",
       "      <td>4048</td>\n",
       "      <td>59309</td>\n",
       "      <td>49612</td>\n",
       "      <td>49612</td>\n",
       "    </tr>\n",
       "    <tr>\n",
       "      <th>3</th>\n",
       "      <td>3</td>\n",
       "      <td>2022-11-30</td>\n",
       "      <td>103608</td>\n",
       "      <td>103608</td>\n",
       "      <td>-1313</td>\n",
       "      <td>2987</td>\n",
       "      <td>3908</td>\n",
       "      <td>67032</td>\n",
       "      <td>75400</td>\n",
       "      <td>75400</td>\n",
       "    </tr>\n",
       "    <tr>\n",
       "      <th>4</th>\n",
       "      <td>4</td>\n",
       "      <td>2022-11-30</td>\n",
       "      <td>5094</td>\n",
       "      <td>5094</td>\n",
       "      <td>-1307</td>\n",
       "      <td>3053</td>\n",
       "      <td>4149</td>\n",
       "      <td>108915</td>\n",
       "      <td>4866</td>\n",
       "      <td>4866</td>\n",
       "    </tr>\n",
       "  </tbody>\n",
       "</table>\n",
       "</div>"
      ],
      "text/plain": [
       "   wagnum  plan_date  distance_since_kap  distance_since_dep  last_kap  \\\n",
       "0       0 2022-11-30               73178               73178        16   \n",
       "1       1 2022-11-30              152623              152623      2993   \n",
       "2       2 2022-11-30              147132              147132     -1602   \n",
       "3       3 2022-11-30              103608              103608     -1313   \n",
       "4       4 2022-11-30                5094                5094     -1307   \n",
       "\n",
       "   last_dep  date_pl_rem  ost_probeg  distance_since_kap_loaded  \\\n",
       "0      2482         3577       65850                       1347   \n",
       "1      1911         3999       98109                      43000   \n",
       "2      3000         4048       59309                      49612   \n",
       "3      2987         3908       67032                      75400   \n",
       "4      3053         4149      108915                       4866   \n",
       "\n",
       "   distance_since_dep_loaded  \n",
       "0                       1347  \n",
       "1                      43000  \n",
       "2                      49612  \n",
       "3                      75400  \n",
       "4                       4866  "
      ]
     },
     "execution_count": 13,
     "metadata": {},
     "output_type": "execute_result"
    }
   ],
   "source": [
    "dislok_slice.head()"
   ]
  },
  {
   "cell_type": "markdown",
   "metadata": {
    "collapsed": false
   },
   "source": [
    "## Рабочий датафрейм"
   ]
  },
  {
   "cell_type": "code",
   "execution_count": 14,
   "metadata": {
    "ExecuteTime": {
     "end_time": "2023-11-11T21:16:12.405575300Z",
     "start_time": "2023-11-11T21:16:12.328949100Z"
    }
   },
   "outputs": [],
   "source": [
    "df = dislok_slice.join(wag_param[['wagnum','model', 'gruz', 'norma_km', 'tara', 'zavod_build', 'ownertype', 'cnsi_probeg_kr']].set_index('wagnum'), on='wagnum', how='left') # Рабочий датафрейм"
   ]
  },
  {
   "cell_type": "code",
   "execution_count": 15,
   "metadata": {
    "ExecuteTime": {
     "end_time": "2023-11-11T21:16:16.088347300Z",
     "start_time": "2023-11-11T21:16:16.055348700Z"
    }
   },
   "outputs": [],
   "source": [
    "# переводим в оставшийся пробег до нормы\n",
    "\n",
    "df['distance_since_kap'] = df['norma_km'] - df['distance_since_kap']\n",
    "df['distance_since_dep'] = df['norma_km'] - df['distance_since_dep']\n",
    "df['distance_since_kap_loaded'] = df['norma_km'] - df['distance_since_kap_loaded']\n",
    "df['distance_since_dep_loaded'] = df['norma_km'] - df['distance_since_dep_loaded']"
   ]
  },
  {
   "cell_type": "code",
   "execution_count": 16,
   "metadata": {
    "ExecuteTime": {
     "end_time": "2023-11-11T21:16:18.589924300Z",
     "start_time": "2023-11-11T21:16:18.508514100Z"
    }
   },
   "outputs": [],
   "source": [
    "df = df.dropna()"
   ]
  },
  {
   "cell_type": "markdown",
   "metadata": {
    "collapsed": false
   },
   "source": [
    "## Скореллированность признаков в датафрейме"
   ]
  },
  {
   "cell_type": "code",
   "execution_count": 17,
   "metadata": {
    "ExecuteTime": {
     "end_time": "2023-11-11T21:16:22.880730700Z",
     "start_time": "2023-11-11T21:16:21.693362200Z"
    }
   },
   "outputs": [
    {
     "data": {
      "image/png": "[encoded data removed]",
      "text/plain": [
       "<Figure size 1152x1152 with 2 Axes>"
      ]
     },
     "metadata": {},
     "output_type": "display_data"
    }
   ],
   "source": [
    "import seaborn as sns\n",
    "import matplotlib.pyplot as plt\n",
    "\n",
    "import seaborn as sns\n",
    "import matplotlib.pyplot as plt\n",
    "\n",
    "df['target_month'] = 0\n",
    "df['target_day'] = 0\n",
    "df.target_month = target_slice.target_month.to_numpy().astype('int')\n",
    "df.target_day = target_slice.target_day.to_numpy().astype('int')\n",
    "\n",
    "sns.set_theme(style=\"white\")\n",
    "corr = df.dropna().corr()\n",
    "fig, ax = plt.subplots(figsize=(16, 16))\n",
    "ax = sns.heatmap(corr, annot=True, cmap=\"viridis\")"
   ]
  },
  {
   "cell_type": "markdown",
   "metadata": {
    "collapsed": false
   },
   "source": [
    "## Что можно убрать\n",
    "- Тара (скореллирована с грузом)\n",
    "- Норма в км (уже тоже не нужна)"
   ]
  },
  {
   "cell_type": "code",
   "execution_count": 18,
   "metadata": {
    "ExecuteTime": {
     "end_time": "2023-11-11T21:20:11.258595Z",
     "start_time": "2023-11-11T21:20:11.206523900Z"
    },
    "collapsed": false
   },
   "outputs": [],
   "source": [
    "df = df.drop(['tara', 'norma_km'], axis=1)"
   ]
  },
  {
   "cell_type": "code",
   "execution_count": 19,
   "metadata": {
    "ExecuteTime": {
     "end_time": "2023-11-11T21:20:14.180829300Z",
     "start_time": "2023-11-11T21:20:14.078004700Z"
    },
    "pycharm": {
     "name": "#%%\n"
    }
   },
   "outputs": [],
   "source": [
    "df['plan_date'] = ((df['plan_date'].to_numpy().astype('datetime64[D]') - date_min).astype('timedelta64[D]').astype('float'))"
   ]
  },
  {
   "cell_type": "markdown",
   "metadata": {},
   "source": [
    "# Catboost implementation"
   ]
  },
  {
   "cell_type": "code",
   "execution_count": 21,
   "metadata": {
    "ExecuteTime": {
     "end_time": "2023-11-11T21:22:40.104168Z",
     "start_time": "2023-11-11T21:22:39.991851700Z"
    }
   },
   "outputs": [
    {
     "name": "stdout",
     "output_type": "stream",
     "text": [
      "<class 'pandas.core.frame.DataFrame'>\n",
      "Int64Index: 33977 entries, 0 to 33976\n",
      "Data columns (total 17 columns):\n",
      " #   Column                     Non-Null Count  Dtype  \n",
      "---  ------                     --------------  -----  \n",
      " 0   wagnum                     33977 non-null  object \n",
      " 1   plan_date                  33977 non-null  float64\n",
      " 2   distance_since_kap         33977 non-null  Int64  \n",
      " 3   distance_since_dep         33977 non-null  Int64  \n",
      " 4   last_kap                   33977 non-null  int64  \n",
      " 5   last_dep                   33977 non-null  int64  \n",
      " 6   date_pl_rem                33977 non-null  int64  \n",
      " 7   ost_probeg                 33977 non-null  int64  \n",
      " 8   distance_since_kap_loaded  33977 non-null  Int64  \n",
      " 9   distance_since_dep_loaded  33977 non-null  Int64  \n",
      " 10  model                      33977 non-null  string \n",
      " 11  gruz                       33977 non-null  Int64  \n",
      " 12  zavod_build                33977 non-null  Int64  \n",
      " 13  ownertype                  33977 non-null  Int64  \n",
      " 14  cnsi_probeg_kr             33977 non-null  Int64  \n",
      " 15  target_month               33977 non-null  int64  \n",
      " 16  target_day                 33977 non-null  int64  \n",
      "dtypes: Int64(8), float64(1), int64(6), object(1), string(1)\n",
      "memory usage: 4.9+ MB\n"
     ]
    }
   ],
   "source": [
    "df.info()"
   ]
  },
  {
   "cell_type": "code",
   "execution_count": 38,
   "metadata": {
    "ExecuteTime": {
     "end_time": "2023-11-11T13:45:58.586725300Z",
     "start_time": "2023-11-11T13:45:43.348030400Z"
    }
   },
   "outputs": [
    {
     "name": "stdout",
     "output_type": "stream",
     "text": [
      "Requirement already satisfied: catboost in /opt/conda/lib/python3.8/site-packages (1.2.2)\n",
      "Requirement already satisfied: six in /opt/conda/lib/python3.8/site-packages (from catboost) (1.16.0)\n",
      "Requirement already satisfied: plotly in /opt/conda/lib/python3.8/site-packages (from catboost) (5.18.0)\n",
      "Requirement already satisfied: pandas>=0.24 in /opt/conda/lib/python3.8/site-packages (from catboost) (1.3.4)\n",
      "Requirement already satisfied: numpy>=1.16.0 in /opt/conda/lib/python3.8/site-packages (from catboost) (1.20.3)\n",
      "Requirement already satisfied: scipy in /opt/conda/lib/python3.8/site-packages (from catboost) (1.7.1)\n",
      "Requirement already satisfied: graphviz in /opt/conda/lib/python3.8/site-packages (from catboost) (0.20.1)\n",
      "Requirement already satisfied: matplotlib in /opt/conda/lib/python3.8/site-packages (from catboost) (3.5.0)\n",
      "Requirement already satisfied: python-dateutil>=2.7.3 in /opt/conda/lib/python3.8/site-packages (from pandas>=0.24->catboost) (2.8.2)\n",
      "Requirement already satisfied: pytz>=2017.3 in /opt/conda/lib/python3.8/site-packages (from pandas>=0.24->catboost) (2021.3)\n",
      "Requirement already satisfied: pyparsing>=2.2.1 in /opt/conda/lib/python3.8/site-packages (from matplotlib->catboost) (3.0.4)\n",
      "Requirement already satisfied: pillow>=6.2.0 in /opt/conda/lib/python3.8/site-packages (from matplotlib->catboost) (8.4.0)\n",
      "Requirement already satisfied: kiwisolver>=1.0.1 in /opt/conda/lib/python3.8/site-packages (from matplotlib->catboost) (1.3.1)\n",
      "Requirement already satisfied: fonttools>=4.22.0 in /opt/conda/lib/python3.8/site-packages (from matplotlib->catboost) (4.25.0)\n",
      "Requirement already satisfied: packaging>=20.0 in /opt/conda/lib/python3.8/site-packages (from matplotlib->catboost) (21.3)\n",
      "Requirement already satisfied: cycler>=0.10 in /opt/conda/lib/python3.8/site-packages (from matplotlib->catboost) (0.11.0)\n",
      "Requirement already satisfied: tenacity>=6.2.0 in /opt/conda/lib/python3.8/site-packages (from plotly->catboost) (8.2.3)\n",
      "\u001b[33mWARNING: Running pip as the 'root' user can result in broken permissions and conflicting behaviour with the system package manager. It is recommended to use a virtual environment instead: https://pip.pypa.io/warnings/venv\u001b[0m\n"
     ]
    }
   ],
   "source": [
    "!pip install catboost"
   ]
  },
  {
   "cell_type": "markdown",
   "metadata": {},
   "source": [
    "## Модель для предсказания месяца"
   ]
  },
  {
   "cell_type": "code",
   "execution_count": 241,
   "metadata": {
    "ExecuteTime": {
     "end_time": "2023-11-11T23:51:41.344126Z",
     "start_time": "2023-11-11T23:51:41.256990300Z"
    }
   },
   "outputs": [],
   "source": [
    "from catboost import CatBoostClassifier, Pool\n",
    "from sklearn.model_selection import train_test_split\n",
    "\n",
    "y = df[['target_month', 'target_day']].to_numpy()\n",
    "X = df.drop(['wagnum', 'plan_date', 'zavod_build', 'cnsi_probeg_kr', 'target_month', 'target_day'], axis=1).to_numpy()\n",
    "\n",
    "X_train, X_test, y_train, y_test = train_test_split(X, y, test_size=0.2, random_state=42) # трейн-тест сплит по вагонам"
   ]
  },
  {
   "cell_type": "code",
   "execution_count": 240,
   "metadata": {
    "ExecuteTime": {
     "end_time": "2023-11-11T23:51:39.410940700Z",
     "start_time": "2023-11-11T23:51:39.388195500Z"
    }
   },
   "outputs": [
    {
     "name": "stdout",
     "output_type": "stream",
     "text": [
      "0.04749641293550642\n",
      "0.04311359623307828\n"
     ]
    }
   ],
   "source": [
    "# считаем пропорцию единиц-таргетов чтобы взвесить лосс-функцию в модели\n",
    "# это надо чтобы обучаться по несбалансированной выборке\n",
    "prop = np.sum(y_train[:, 0]) / len(y_train[:, 0])\n",
    "w_train = 1 / prop * y_train[:, 0] + 1. * (y_train[:, 0] == 0)\n",
    "print(prop)\n",
    "\n",
    "prop = np.sum(y_test[:, 0]) / len(y_test[:, 0])\n",
    "w_test = 1 / prop * y_test[:, 0] + 1. * (y_test[:, 0] == 0)\n",
    "print(prop)"
   ]
  },
  {
   "cell_type": "code",
   "execution_count": 242,
   "metadata": {
    "ExecuteTime": {
     "end_time": "2023-11-11T23:51:43.090210900Z",
     "start_time": "2023-11-11T23:51:43.082100100Z"
    }
   },
   "outputs": [
    {
     "name": "stdout",
     "output_type": "stream",
     "text": [
      "<class 'pandas.core.frame.DataFrame'>\n",
      "RangeIndex: 33977 entries, 0 to 33976\n",
      "Data columns (total 13 columns):\n",
      " #   Column                     Non-Null Count  Dtype \n",
      "---  ------                     --------------  ----- \n",
      " 0   distance_since_kap         33977 non-null  int64 \n",
      " 1   distance_since_dep         33977 non-null  int64 \n",
      " 2   last_kap                   33977 non-null  int64 \n",
      " 3   last_dep                   33977 non-null  int64 \n",
      " 4   date_pl_rem                33977 non-null  int64 \n",
      " 5   ost_probeg                 33977 non-null  int64 \n",
      " 6   distance_since_kap_loaded  33977 non-null  int64 \n",
      " 7   distance_since_dep_loaded  33977 non-null  int64 \n",
      " 8   model                      33977 non-null  object\n",
      " 9   gruz                       33977 non-null  int64 \n",
      " 10  ownertype                  33977 non-null  int64 \n",
      " 11  target_month               33977 non-null  int64 \n",
      " 12  target_day                 33977 non-null  int64 \n",
      "dtypes: int64(12), object(1)\n",
      "memory usage: 3.4+ MB\n"
     ]
    }
   ],
   "source": [
    "df.drop(['wagnum', 'plan_date', 'zavod_build', 'cnsi_probeg_kr'], axis = 1).info()"
   ]
  },
  {
   "cell_type": "code",
   "execution_count": 205,
   "metadata": {
    "ExecuteTime": {
     "end_time": "2023-11-11T23:31:56.040669300Z",
     "start_time": "2023-11-11T23:31:55.848885600Z"
    },
    "collapsed": false
   },
   "outputs": [],
   "source": [
    "# запись данных для обучения\n",
    "df.to_csv('train_df.csv')"
   ]
  },
  {
   "cell_type": "code",
   "execution_count": 235,
   "metadata": {
    "ExecuteTime": {
     "end_time": "2023-11-11T23:50:53.992550Z",
     "start_time": "2023-11-11T23:50:53.878910800Z"
    },
    "collapsed": false
   },
   "outputs": [],
   "source": [
    "# чтение данных для обученя\n",
    "df = pd.read_csv('train_df.csv')"
   ]
  },
  {
   "cell_type": "code",
   "execution_count": 243,
   "metadata": {
    "ExecuteTime": {
     "end_time": "2023-11-11T23:52:21.058475100Z",
     "start_time": "2023-11-11T23:52:20.980685300Z"
    },
    "collapsed": false
   },
   "outputs": [
    {
     "data": {
      "text/html": [
       "<div>\n",
       "<style scoped>\n",
       "    .dataframe tbody tr th:only-of-type {\n",
       "        vertical-align: middle;\n",
       "    }\n",
       "\n",
       "    .dataframe tbody tr th {\n",
       "        vertical-align: top;\n",
       "    }\n",
       "\n",
       "    .dataframe thead th {\n",
       "        text-align: right;\n",
       "    }\n",
       "</style>\n",
       "<table border=\"1\" class=\"dataframe\">\n",
       "  <thead>\n",
       "    <tr style=\"text-align: right;\">\n",
       "      <th></th>\n",
       "      <th>wagnum</th>\n",
       "      <th>plan_date</th>\n",
       "      <th>distance_since_kap</th>\n",
       "      <th>distance_since_dep</th>\n",
       "      <th>last_kap</th>\n",
       "      <th>last_dep</th>\n",
       "      <th>date_pl_rem</th>\n",
       "      <th>ost_probeg</th>\n",
       "      <th>distance_since_kap_loaded</th>\n",
       "      <th>distance_since_dep_loaded</th>\n",
       "      <th>model</th>\n",
       "      <th>gruz</th>\n",
       "      <th>zavod_build</th>\n",
       "      <th>ownertype</th>\n",
       "      <th>cnsi_probeg_kr</th>\n",
       "      <th>target_month</th>\n",
       "      <th>target_day</th>\n",
       "    </tr>\n",
       "  </thead>\n",
       "  <tbody>\n",
       "    <tr>\n",
       "      <th>0</th>\n",
       "      <td>0</td>\n",
       "      <td>3420.0</td>\n",
       "      <td>86822</td>\n",
       "      <td>86822</td>\n",
       "      <td>16</td>\n",
       "      <td>2482</td>\n",
       "      <td>3577</td>\n",
       "      <td>65850</td>\n",
       "      <td>158653</td>\n",
       "      <td>158653</td>\n",
       "      <td>11-276</td>\n",
       "      <td>680</td>\n",
       "      <td>1</td>\n",
       "      <td>0</td>\n",
       "      <td>160</td>\n",
       "      <td>0</td>\n",
       "      <td>0</td>\n",
       "    </tr>\n",
       "    <tr>\n",
       "      <th>1</th>\n",
       "      <td>1</td>\n",
       "      <td>3420.0</td>\n",
       "      <td>7377</td>\n",
       "      <td>7377</td>\n",
       "      <td>2993</td>\n",
       "      <td>1911</td>\n",
       "      <td>3999</td>\n",
       "      <td>98109</td>\n",
       "      <td>117000</td>\n",
       "      <td>117000</td>\n",
       "      <td>11-066-04</td>\n",
       "      <td>680</td>\n",
       "      <td>1</td>\n",
       "      <td>0</td>\n",
       "      <td>160</td>\n",
       "      <td>0</td>\n",
       "      <td>0</td>\n",
       "    </tr>\n",
       "    <tr>\n",
       "      <th>2</th>\n",
       "      <td>2</td>\n",
       "      <td>3420.0</td>\n",
       "      <td>-37132</td>\n",
       "      <td>-37132</td>\n",
       "      <td>-1602</td>\n",
       "      <td>3000</td>\n",
       "      <td>4048</td>\n",
       "      <td>59309</td>\n",
       "      <td>60388</td>\n",
       "      <td>60388</td>\n",
       "      <td>Р-9494-01</td>\n",
       "      <td>680</td>\n",
       "      <td>1</td>\n",
       "      <td>0</td>\n",
       "      <td>160</td>\n",
       "      <td>0</td>\n",
       "      <td>0</td>\n",
       "    </tr>\n",
       "    <tr>\n",
       "      <th>3</th>\n",
       "      <td>3</td>\n",
       "      <td>3420.0</td>\n",
       "      <td>6392</td>\n",
       "      <td>6392</td>\n",
       "      <td>-1313</td>\n",
       "      <td>2987</td>\n",
       "      <td>3908</td>\n",
       "      <td>67032</td>\n",
       "      <td>34600</td>\n",
       "      <td>34600</td>\n",
       "      <td>11-066-04</td>\n",
       "      <td>680</td>\n",
       "      <td>1</td>\n",
       "      <td>0</td>\n",
       "      <td>160</td>\n",
       "      <td>0</td>\n",
       "      <td>0</td>\n",
       "    </tr>\n",
       "    <tr>\n",
       "      <th>4</th>\n",
       "      <td>4</td>\n",
       "      <td>3420.0</td>\n",
       "      <td>154906</td>\n",
       "      <td>154906</td>\n",
       "      <td>-1307</td>\n",
       "      <td>3053</td>\n",
       "      <td>4149</td>\n",
       "      <td>108915</td>\n",
       "      <td>155134</td>\n",
       "      <td>155134</td>\n",
       "      <td>11-217</td>\n",
       "      <td>680</td>\n",
       "      <td>23</td>\n",
       "      <td>0</td>\n",
       "      <td>160</td>\n",
       "      <td>0</td>\n",
       "      <td>0</td>\n",
       "    </tr>\n",
       "    <tr>\n",
       "      <th>...</th>\n",
       "      <td>...</td>\n",
       "      <td>...</td>\n",
       "      <td>...</td>\n",
       "      <td>...</td>\n",
       "      <td>...</td>\n",
       "      <td>...</td>\n",
       "      <td>...</td>\n",
       "      <td>...</td>\n",
       "      <td>...</td>\n",
       "      <td>...</td>\n",
       "      <td>...</td>\n",
       "      <td>...</td>\n",
       "      <td>...</td>\n",
       "      <td>...</td>\n",
       "      <td>...</td>\n",
       "      <td>...</td>\n",
       "      <td>...</td>\n",
       "    </tr>\n",
       "    <tr>\n",
       "      <th>33972</th>\n",
       "      <td>33972</td>\n",
       "      <td>3420.0</td>\n",
       "      <td>113606</td>\n",
       "      <td>113606</td>\n",
       "      <td>-976</td>\n",
       "      <td>2448</td>\n",
       "      <td>3543</td>\n",
       "      <td>1222</td>\n",
       "      <td>150481</td>\n",
       "      <td>150481</td>\n",
       "      <td>12-532-02</td>\n",
       "      <td>700</td>\n",
       "      <td>0</td>\n",
       "      <td>0</td>\n",
       "      <td>160</td>\n",
       "      <td>0</td>\n",
       "      <td>0</td>\n",
       "    </tr>\n",
       "    <tr>\n",
       "      <th>33973</th>\n",
       "      <td>33973</td>\n",
       "      <td>3420.0</td>\n",
       "      <td>122560</td>\n",
       "      <td>122560</td>\n",
       "      <td>-976</td>\n",
       "      <td>2705</td>\n",
       "      <td>3800</td>\n",
       "      <td>131</td>\n",
       "      <td>145127</td>\n",
       "      <td>145127</td>\n",
       "      <td>12-532-02</td>\n",
       "      <td>700</td>\n",
       "      <td>0</td>\n",
       "      <td>0</td>\n",
       "      <td>160</td>\n",
       "      <td>0</td>\n",
       "      <td>0</td>\n",
       "    </tr>\n",
       "    <tr>\n",
       "      <th>33974</th>\n",
       "      <td>33974</td>\n",
       "      <td>3420.0</td>\n",
       "      <td>102236</td>\n",
       "      <td>102236</td>\n",
       "      <td>-792</td>\n",
       "      <td>2324</td>\n",
       "      <td>3420</td>\n",
       "      <td>24643</td>\n",
       "      <td>109868</td>\n",
       "      <td>109868</td>\n",
       "      <td>12-532-02</td>\n",
       "      <td>700</td>\n",
       "      <td>0</td>\n",
       "      <td>0</td>\n",
       "      <td>160</td>\n",
       "      <td>0</td>\n",
       "      <td>0</td>\n",
       "    </tr>\n",
       "    <tr>\n",
       "      <th>33975</th>\n",
       "      <td>33975</td>\n",
       "      <td>3420.0</td>\n",
       "      <td>36909</td>\n",
       "      <td>36909</td>\n",
       "      <td>-858</td>\n",
       "      <td>2592</td>\n",
       "      <td>3687</td>\n",
       "      <td>1358</td>\n",
       "      <td>119268</td>\n",
       "      <td>119268</td>\n",
       "      <td>12-532-02</td>\n",
       "      <td>700</td>\n",
       "      <td>0</td>\n",
       "      <td>0</td>\n",
       "      <td>160</td>\n",
       "      <td>0</td>\n",
       "      <td>0</td>\n",
       "    </tr>\n",
       "    <tr>\n",
       "      <th>33976</th>\n",
       "      <td>33976</td>\n",
       "      <td>3420.0</td>\n",
       "      <td>102192</td>\n",
       "      <td>102192</td>\n",
       "      <td>-976</td>\n",
       "      <td>2570</td>\n",
       "      <td>3665</td>\n",
       "      <td>774</td>\n",
       "      <td>132377</td>\n",
       "      <td>132377</td>\n",
       "      <td>12-532-02</td>\n",
       "      <td>700</td>\n",
       "      <td>0</td>\n",
       "      <td>0</td>\n",
       "      <td>160</td>\n",
       "      <td>0</td>\n",
       "      <td>0</td>\n",
       "    </tr>\n",
       "  </tbody>\n",
       "</table>\n",
       "<p>33977 rows × 17 columns</p>\n",
       "</div>"
      ],
      "text/plain": [
       "       wagnum  plan_date  distance_since_kap  distance_since_dep  last_kap  \\\n",
       "0           0     3420.0               86822               86822        16   \n",
       "1           1     3420.0                7377                7377      2993   \n",
       "2           2     3420.0              -37132              -37132     -1602   \n",
       "3           3     3420.0                6392                6392     -1313   \n",
       "4           4     3420.0              154906              154906     -1307   \n",
       "...       ...        ...                 ...                 ...       ...   \n",
       "33972   33972     3420.0              113606              113606      -976   \n",
       "33973   33973     3420.0              122560              122560      -976   \n",
       "33974   33974     3420.0              102236              102236      -792   \n",
       "33975   33975     3420.0               36909               36909      -858   \n",
       "33976   33976     3420.0              102192              102192      -976   \n",
       "\n",
       "       last_dep  date_pl_rem  ost_probeg  distance_since_kap_loaded  \\\n",
       "0          2482         3577       65850                     158653   \n",
       "1          1911         3999       98109                     117000   \n",
       "2          3000         4048       59309                      60388   \n",
       "3          2987         3908       67032                      34600   \n",
       "4          3053         4149      108915                     155134   \n",
       "...         ...          ...         ...                        ...   \n",
       "33972      2448         3543        1222                     150481   \n",
       "33973      2705         3800         131                     145127   \n",
       "33974      2324         3420       24643                     109868   \n",
       "33975      2592         3687        1358                     119268   \n",
       "33976      2570         3665         774                     132377   \n",
       "\n",
       "       distance_since_dep_loaded      model  gruz  zavod_build  ownertype  \\\n",
       "0                         158653     11-276   680            1          0   \n",
       "1                         117000  11-066-04   680            1          0   \n",
       "2                          60388  Р-9494-01   680            1          0   \n",
       "3                          34600  11-066-04   680            1          0   \n",
       "4                         155134     11-217   680           23          0   \n",
       "...                          ...        ...   ...          ...        ...   \n",
       "33972                     150481  12-532-02   700            0          0   \n",
       "33973                     145127  12-532-02   700            0          0   \n",
       "33974                     109868  12-532-02   700            0          0   \n",
       "33975                     119268  12-532-02   700            0          0   \n",
       "33976                     132377  12-532-02   700            0          0   \n",
       "\n",
       "       cnsi_probeg_kr  target_month  target_day  \n",
       "0                 160             0           0  \n",
       "1                 160             0           0  \n",
       "2                 160             0           0  \n",
       "3                 160             0           0  \n",
       "4                 160             0           0  \n",
       "...               ...           ...         ...  \n",
       "33972             160             0           0  \n",
       "33973             160             0           0  \n",
       "33974             160             0           0  \n",
       "33975             160             0           0  \n",
       "33976             160             0           0  \n",
       "\n",
       "[33977 rows x 17 columns]"
      ]
     },
     "execution_count": 243,
     "metadata": {},
     "output_type": "execute_result"
    }
   ],
   "source": [
    "df"
   ]
  },
  {
   "cell_type": "code",
   "execution_count": 244,
   "metadata": {
    "ExecuteTime": {
     "end_time": "2023-11-11T23:52:26.649948300Z",
     "start_time": "2023-11-11T23:52:26.449074500Z"
    }
   },
   "outputs": [],
   "source": [
    "# индексы категориальных фич\n",
    "cat_features = [8, 10]\n",
    "\n",
    "train_pool = Pool(X_train,\n",
    "                  y_train[:, 0], \n",
    "                  cat_features=cat_features,\n",
    "                  weight = w_train)\n",
    "\n",
    "test_pool = Pool(X_test,\n",
    "                 y_test[:, 0], \n",
    "                  cat_features=cat_features,\n",
    "                  weight = w_test)\n",
    "\n",
    "model = CatBoostClassifier(depth = 16, iterations= 50, task_type=\"GPU\", loss_function='CrossEntropy', eval_metric='F1')"
   ]
  },
  {
   "cell_type": "markdown",
   "metadata": {
    "collapsed": false
   },
   "source": [
    "## Обучение модели\n",
    "На каждой иттерации модель выводит значение f1-score на тесте и трейне"
   ]
  },
  {
   "cell_type": "code",
   "execution_count": 245,
   "metadata": {
    "ExecuteTime": {
     "end_time": "2023-11-11T23:54:25.515867900Z",
     "start_time": "2023-11-11T23:52:29.338274200Z"
    }
   },
   "outputs": [
    {
     "name": "stderr",
     "output_type": "stream",
     "text": [
      "Warning: less than 75% gpu memory available for training. Free: 14411.5 Total: 48593.375\n",
      "Warning: less than 75% gpu memory available for training. Free: 21289.5 Total: 48593.375\n"
     ]
    },
    {
     "name": "stdout",
     "output_type": "stream",
     "text": [
      "0:\tlearn: 0.8913345\ttest: 0.8324215\tbest: 0.8324215 (0)\ttotal: 2.68s\tremaining: 2m 11s\n",
      "1:\tlearn: 0.8933839\ttest: 0.8531706\tbest: 0.8531706 (1)\ttotal: 5.09s\tremaining: 2m 2s\n",
      "2:\tlearn: 0.8887911\ttest: 0.8669901\tbest: 0.8669901 (2)\ttotal: 5.88s\tremaining: 1m 32s\n",
      "3:\tlearn: 0.8894034\ttest: 0.8674057\tbest: 0.8674057 (3)\ttotal: 8.55s\tremaining: 1m 38s\n",
      "4:\tlearn: 0.8900315\ttest: 0.8708100\tbest: 0.8708100 (4)\ttotal: 10.8s\tremaining: 1m 36s\n",
      "5:\tlearn: 0.8895102\ttest: 0.8710487\tbest: 0.8710487 (5)\ttotal: 13s\tremaining: 1m 35s\n",
      "6:\tlearn: 0.8877435\ttest: 0.8755706\tbest: 0.8755706 (6)\ttotal: 13.6s\tremaining: 1m 23s\n",
      "7:\tlearn: 0.8893348\ttest: 0.8758690\tbest: 0.8758690 (7)\ttotal: 16.1s\tremaining: 1m 24s\n",
      "8:\tlearn: 0.8897691\ttest: 0.8749849\tbest: 0.8758690 (7)\ttotal: 18.8s\tremaining: 1m 25s\n",
      "9:\tlearn: 0.8897881\ttest: 0.8744471\tbest: 0.8758690 (7)\ttotal: 21s\tremaining: 1m 23s\n",
      "10:\tlearn: 0.8894995\ttest: 0.8747458\tbest: 0.8758690 (7)\ttotal: 23.6s\tremaining: 1m 23s\n",
      "11:\tlearn: 0.8896792\ttest: 0.8710487\tbest: 0.8758690 (7)\ttotal: 26.1s\tremaining: 1m 22s\n",
      "12:\tlearn: 0.8904322\ttest: 0.8711681\tbest: 0.8758690 (7)\ttotal: 28.8s\tremaining: 1m 22s\n",
      "13:\tlearn: 0.8908254\ttest: 0.8696692\tbest: 0.8758690 (7)\ttotal: 31.5s\tremaining: 1m 21s\n",
      "14:\tlearn: 0.8913261\ttest: 0.8731988\tbest: 0.8758690 (7)\ttotal: 34s\tremaining: 1m 19s\n",
      "15:\tlearn: 0.8909635\ttest: 0.8733184\tbest: 0.8758690 (7)\ttotal: 36.7s\tremaining: 1m 17s\n",
      "16:\tlearn: 0.8915959\ttest: 0.8716461\tbest: 0.8758690 (7)\ttotal: 39.4s\tremaining: 1m 16s\n",
      "17:\tlearn: 0.8908618\ttest: 0.8708100\tbest: 0.8758690 (7)\ttotal: 40s\tremaining: 1m 11s\n",
      "18:\tlearn: 0.8913139\ttest: 0.8728403\tbest: 0.8758690 (7)\ttotal: 42.6s\tremaining: 1m 9s\n",
      "19:\tlearn: 0.8920378\ttest: 0.8779421\tbest: 0.8779421 (19)\ttotal: 45.1s\tremaining: 1m 7s\n",
      "20:\tlearn: 0.8917209\ttest: 0.8784205\tbest: 0.8784205 (20)\ttotal: 47.7s\tremaining: 1m 5s\n",
      "21:\tlearn: 0.8919456\ttest: 0.8762871\tbest: 0.8784205 (20)\ttotal: 50.4s\tremaining: 1m 4s\n",
      "22:\tlearn: 0.8926971\ttest: 0.8751045\tbest: 0.8784205 (20)\ttotal: 53.1s\tremaining: 1m 2s\n",
      "23:\tlearn: 0.8933136\ttest: 0.8755234\tbest: 0.8784205 (20)\ttotal: 55.5s\tremaining: 1m\n",
      "24:\tlearn: 0.8931936\ttest: 0.8769449\tbest: 0.8784205 (20)\ttotal: 58.2s\tremaining: 58.2s\n",
      "25:\tlearn: 0.8932686\ttest: 0.8770047\tbest: 0.8784205 (20)\ttotal: 1m\tremaining: 56.2s\n",
      "26:\tlearn: 0.8937949\ttest: 0.8754037\tbest: 0.8784205 (20)\ttotal: 1m 3s\tremaining: 54.1s\n",
      "27:\tlearn: 0.8936288\ttest: 0.8771844\tbest: 0.8784205 (20)\ttotal: 1m 5s\tremaining: 51.8s\n",
      "28:\tlearn: 0.8944708\ttest: 0.8776637\tbest: 0.8784205 (20)\ttotal: 1m 8s\tremaining: 49.5s\n",
      "29:\tlearn: 0.8946513\ttest: 0.8760027\tbest: 0.8784205 (20)\ttotal: 1m 10s\tremaining: 47.3s\n",
      "30:\tlearn: 0.8948619\ttest: 0.8775438\tbest: 0.8784205 (20)\ttotal: 1m 13s\tremaining: 45.2s\n",
      "31:\tlearn: 0.8945310\ttest: 0.8760027\tbest: 0.8784205 (20)\ttotal: 1m 15s\tremaining: 42.7s\n",
      "32:\tlearn: 0.8949070\ttest: 0.8739765\tbest: 0.8784205 (20)\ttotal: 1m 18s\tremaining: 40.6s\n",
      "33:\tlearn: 0.8955083\ttest: 0.8721245\tbest: 0.8784205 (20)\ttotal: 1m 21s\tremaining: 38.3s\n",
      "34:\tlearn: 0.8958988\ttest: 0.8742760\tbest: 0.8784205 (20)\ttotal: 1m 24s\tremaining: 36s\n",
      "35:\tlearn: 0.8959439\ttest: 0.8727233\tbest: 0.8784205 (20)\ttotal: 1m 26s\tremaining: 33.6s\n",
      "36:\tlearn: 0.8962299\ttest: 0.8726035\tbest: 0.8784205 (20)\ttotal: 1m 29s\tremaining: 31.3s\n",
      "37:\tlearn: 0.8966653\ttest: 0.8726035\tbest: 0.8784205 (20)\ttotal: 1m 31s\tremaining: 29s\n",
      "38:\tlearn: 0.8968611\ttest: 0.8748156\tbest: 0.8784205 (20)\ttotal: 1m 34s\tremaining: 26.7s\n",
      "39:\tlearn: 0.8969665\ttest: 0.8745757\tbest: 0.8784205 (20)\ttotal: 1m 36s\tremaining: 24.2s\n",
      "40:\tlearn: 0.8973264\ttest: 0.8766624\tbest: 0.8784205 (20)\ttotal: 1m 39s\tremaining: 21.9s\n",
      "41:\tlearn: 0.8975676\ttest: 0.8749956\tbest: 0.8784205 (20)\ttotal: 1m 40s\tremaining: 19.2s\n",
      "42:\tlearn: 0.8975374\ttest: 0.8733230\tbest: 0.8784205 (20)\ttotal: 1m 42s\tremaining: 16.6s\n",
      "43:\tlearn: 0.8976128\ttest: 0.8734430\tbest: 0.8784205 (20)\ttotal: 1m 43s\tremaining: 14.1s\n",
      "44:\tlearn: 0.8977334\ttest: 0.8736231\tbest: 0.8784205 (20)\ttotal: 1m 45s\tremaining: 11.8s\n",
      "45:\tlearn: 0.8978692\ttest: 0.8735630\tbest: 0.8784205 (20)\ttotal: 1m 48s\tremaining: 9.44s\n",
      "46:\tlearn: 0.8980201\ttest: 0.8741037\tbest: 0.8784205 (20)\ttotal: 1m 51s\tremaining: 7.1s\n",
      "47:\tlearn: 0.8982012\ttest: 0.8740436\tbest: 0.8784205 (20)\ttotal: 1m 52s\tremaining: 4.68s\n",
      "48:\tlearn: 0.8981861\ttest: 0.8740436\tbest: 0.8784205 (20)\ttotal: 1m 53s\tremaining: 2.32s\n",
      "49:\tlearn: 0.8987874\ttest: 0.8742239\tbest: 0.8784205 (20)\ttotal: 1m 54s\tremaining: 0us\n",
      "bestTest = 0.8784205376\n",
      "bestIteration = 20\n",
      "Shrink model to first 21 iterations.\n"
     ]
    },
    {
     "data": {
      "text/plain": [
       "<catboost.core.CatBoostClassifier at 0x7f71b87befd0>"
      ]
     },
     "execution_count": 245,
     "metadata": {},
     "output_type": "execute_result"
    }
   ],
   "source": [
    "model.fit(train_pool, eval_set=test_pool)"
   ]
  },
  {
   "cell_type": "code",
   "execution_count": 246,
   "metadata": {
    "ExecuteTime": {
     "end_time": "2023-11-11T23:54:25.707161100Z",
     "start_time": "2023-11-11T23:54:25.671148900Z"
    }
   },
   "outputs": [],
   "source": [
    "model.save_model('model_month')"
   ]
  },
  {
   "cell_type": "code",
   "execution_count": 247,
   "metadata": {
    "ExecuteTime": {
     "end_time": "2023-11-11T23:54:25.996293200Z",
     "start_time": "2023-11-11T23:54:25.707161100Z"
    },
    "collapsed": false
   },
   "outputs": [
    {
     "data": {
      "image/png": "[encoded data removed]",
      "text/plain": [
       "<Figure size 720x432 with 1 Axes>"
      ]
     },
     "metadata": {},
     "output_type": "display_data"
    }
   ],
   "source": [
    "feature_importances = model.get_feature_importance(type='PredictionValuesChange')\n",
    "plt.figure(figsize=(10, 6))\n",
    "plt.barh(df.drop(['wagnum', 'plan_date', 'zavod_build', 'cnsi_probeg_kr', 'target_month', 'target_day'], axis=1).columns.to_numpy(), feature_importances)\n",
    "plt.title('CatBoost Feature Importance')\n",
    "plt.xlabel('Importance')\n",
    "plt.ylabel('Features')\n",
    "plt.show()"
   ]
  },
  {
   "cell_type": "markdown",
   "metadata": {},
   "source": [
    "## Модель для предсказания дня"
   ]
  },
  {
   "cell_type": "code",
   "execution_count": 248,
   "metadata": {
    "ExecuteTime": {
     "end_time": "2023-11-11T23:54:26.000374500Z",
     "start_time": "2023-11-11T23:54:25.995568100Z"
    }
   },
   "outputs": [
    {
     "name": "stdout",
     "output_type": "stream",
     "text": [
      "0.0169971671388102\n",
      "0.015891701000588582\n"
     ]
    }
   ],
   "source": [
    "prop = np.sum(y_train[:, 1]) / len(y_train[:, 1])\n",
    "w_train = 1 / prop * y_train[:, 1] + 1. * (y_train[:, 1] == 0)\n",
    "print(prop)\n",
    "\n",
    "prop = np.sum(y_test[:, 1]) / len(y_test[:, 1])\n",
    "w_test = 1 / prop * y_test[:, 1] + 1. * (y_test[:, 1] == 0)\n",
    "print(prop)"
   ]
  },
  {
   "cell_type": "code",
   "execution_count": 249,
   "metadata": {
    "ExecuteTime": {
     "end_time": "2023-11-11T23:54:26.107433500Z",
     "start_time": "2023-11-11T23:54:25.996293200Z"
    }
   },
   "outputs": [],
   "source": [
    "train_pool = Pool(X_train,\n",
    "                  y_train[:, 1], \n",
    "                  cat_features=cat_features,\n",
    "                  weight = w_train)\n",
    "\n",
    "test_pool = Pool(X_test,\n",
    "                 y_test[:, 1], \n",
    "                  cat_features=cat_features,\n",
    "                  weight = w_test)\n",
    "\n",
    "model_d = CatBoostClassifier(depth = 16, iterations= 50, task_type=\"GPU\", loss_function='CrossEntropy', eval_metric='F1')"
   ]
  },
  {
   "cell_type": "code",
   "execution_count": 250,
   "metadata": {
    "ExecuteTime": {
     "end_time": "2023-11-11T23:56:32.411687100Z",
     "start_time": "2023-11-11T23:54:26.085720100Z"
    }
   },
   "outputs": [
    {
     "name": "stderr",
     "output_type": "stream",
     "text": [
      "Warning: less than 75% gpu memory available for training. Free: 14411.5 Total: 48593.375\n",
      "Warning: less than 75% gpu memory available for training. Free: 21289.5 Total: 48593.375\n"
     ]
    },
    {
     "name": "stdout",
     "output_type": "stream",
     "text": [
      "0:\tlearn: 0.9023166\ttest: 0.7775744\tbest: 0.7775744 (0)\ttotal: 2.68s\tremaining: 2m 11s\n",
      "1:\tlearn: 0.9078676\ttest: 0.8003221\tbest: 0.8003221 (1)\ttotal: 4.9s\tremaining: 1m 57s\n",
      "2:\tlearn: 0.8975911\ttest: 0.8423557\tbest: 0.8423557 (2)\ttotal: 5.68s\tremaining: 1m 28s\n",
      "3:\tlearn: 0.9039845\ttest: 0.8494464\tbest: 0.8494464 (3)\ttotal: 8.21s\tremaining: 1m 34s\n",
      "4:\tlearn: 0.9035035\ttest: 0.8393667\tbest: 0.8494464 (3)\ttotal: 10.9s\tremaining: 1m 38s\n",
      "5:\tlearn: 0.9049993\ttest: 0.8287960\tbest: 0.8494464 (3)\ttotal: 13.6s\tremaining: 1m 39s\n",
      "6:\tlearn: 0.9063662\ttest: 0.8450634\tbest: 0.8494464 (3)\ttotal: 16.2s\tremaining: 1m 39s\n",
      "7:\tlearn: 0.9069735\ttest: 0.8393667\tbest: 0.8494464 (3)\ttotal: 18.6s\tremaining: 1m 37s\n",
      "8:\tlearn: 0.9079624\ttest: 0.8505341\tbest: 0.8505341 (8)\ttotal: 21.3s\tremaining: 1m 36s\n",
      "9:\tlearn: 0.9073080\ttest: 0.8450634\tbest: 0.8505341 (8)\ttotal: 24s\tremaining: 1m 35s\n",
      "10:\tlearn: 0.9065779\ttest: 0.8378045\tbest: 0.8505341 (8)\ttotal: 26.7s\tremaining: 1m 34s\n",
      "11:\tlearn: 0.9075486\ttest: 0.8441589\tbest: 0.8505341 (8)\ttotal: 29.1s\tremaining: 1m 32s\n",
      "12:\tlearn: 0.9074727\ttest: 0.8495067\tbest: 0.8505341 (8)\ttotal: 31.8s\tremaining: 1m 30s\n",
      "13:\tlearn: 0.9072451\ttest: 0.8438578\tbest: 0.8505341 (8)\ttotal: 34.5s\tremaining: 1m 28s\n",
      "14:\tlearn: 0.9080196\ttest: 0.8339251\tbest: 0.8505341 (8)\ttotal: 37.1s\tremaining: 1m 26s\n",
      "15:\tlearn: 0.9096416\ttest: 0.8395473\tbest: 0.8505341 (8)\ttotal: 39.6s\tremaining: 1m 24s\n",
      "16:\tlearn: 0.9082282\ttest: 0.8379845\tbest: 0.8505341 (8)\ttotal: 41.3s\tremaining: 1m 20s\n",
      "17:\tlearn: 0.9088052\ttest: 0.8435570\tbest: 0.8505341 (8)\ttotal: 44s\tremaining: 1m 18s\n",
      "18:\tlearn: 0.9086280\ttest: 0.8392463\tbest: 0.8505341 (8)\ttotal: 46.7s\tremaining: 1m 16s\n",
      "19:\tlearn: 0.9099461\ttest: 0.8291561\tbest: 0.8505341 (8)\ttotal: 49.2s\tremaining: 1m 13s\n",
      "20:\tlearn: 0.9110593\ttest: 0.8297568\tbest: 0.8505341 (8)\ttotal: 51.8s\tremaining: 1m 11s\n",
      "21:\tlearn: 0.9111662\ttest: 0.8350678\tbest: 0.8505341 (8)\ttotal: 54.5s\tremaining: 1m 9s\n",
      "22:\tlearn: 0.9113648\ttest: 0.8296366\tbest: 0.8505341 (8)\ttotal: 57.1s\tremaining: 1m 7s\n",
      "23:\tlearn: 0.9124815\ttest: 0.8195874\tbest: 0.8505341 (8)\ttotal: 59.6s\tremaining: 1m 4s\n",
      "24:\tlearn: 0.9126654\ttest: 0.8033517\tbest: 0.8505341 (8)\ttotal: 1m 2s\tremaining: 1m 2s\n",
      "25:\tlearn: 0.9120835\ttest: 0.8083176\tbest: 0.8505341 (8)\ttotal: 1m 4s\tremaining: 60s\n",
      "26:\tlearn: 0.9109932\ttest: 0.7973201\tbest: 0.8505341 (8)\ttotal: 1m 7s\tremaining: 57.7s\n",
      "27:\tlearn: 0.9103753\ttest: 0.8088550\tbest: 0.8505341 (8)\ttotal: 1m 9s\tremaining: 54.9s\n",
      "28:\tlearn: 0.9091582\ttest: 0.7975579\tbest: 0.8505341 (8)\ttotal: 1m 12s\tremaining: 52.6s\n",
      "29:\tlearn: 0.9091889\ttest: 0.7970825\tbest: 0.8505341 (8)\ttotal: 1m 15s\tremaining: 50.2s\n",
      "30:\tlearn: 0.9092195\ttest: 0.7967263\tbest: 0.8505341 (8)\ttotal: 1m 17s\tremaining: 47.8s\n",
      "31:\tlearn: 0.9093419\ttest: 0.7972607\tbest: 0.8505341 (8)\ttotal: 1m 20s\tremaining: 45.2s\n",
      "32:\tlearn: 0.9095410\ttest: 0.7974984\tbest: 0.8505341 (8)\ttotal: 1m 23s\tremaining: 42.8s\n",
      "33:\tlearn: 0.9096176\ttest: 0.8034113\tbest: 0.8505341 (8)\ttotal: 1m 24s\tremaining: 39.7s\n",
      "34:\tlearn: 0.9102768\ttest: 0.8040678\tbest: 0.8505341 (8)\ttotal: 1m 26s\tremaining: 37.3s\n",
      "35:\tlearn: 0.9112290\ttest: 0.7992860\tbest: 0.8505341 (8)\ttotal: 1m 29s\tremaining: 34.8s\n",
      "36:\tlearn: 0.9122318\ttest: 0.7989875\tbest: 0.8505341 (8)\ttotal: 1m 32s\tremaining: 32.4s\n",
      "37:\tlearn: 0.9122318\ttest: 0.8046058\tbest: 0.8505341 (8)\ttotal: 1m 34s\tremaining: 30s\n",
      "38:\tlearn: 0.9128164\ttest: 0.8051445\tbest: 0.8505341 (8)\ttotal: 1m 37s\tremaining: 27.5s\n",
      "39:\tlearn: 0.9129704\ttest: 0.8051445\tbest: 0.8505341 (8)\ttotal: 1m 40s\tremaining: 25s\n",
      "40:\tlearn: 0.9124298\ttest: 0.8056239\tbest: 0.8505341 (8)\ttotal: 1m 42s\tremaining: 22.5s\n",
      "41:\tlearn: 0.9137564\ttest: 0.8062240\tbest: 0.8505341 (8)\ttotal: 1m 45s\tremaining: 20.1s\n",
      "42:\tlearn: 0.9140342\ttest: 0.8068251\tbest: 0.8505341 (8)\ttotal: 1m 46s\tremaining: 17.4s\n",
      "43:\tlearn: 0.9133710\ttest: 0.8013817\tbest: 0.8505341 (8)\ttotal: 1m 49s\tremaining: 14.9s\n",
      "44:\tlearn: 0.9148221\ttest: 0.7959443\tbest: 0.8505341 (8)\ttotal: 1m 51s\tremaining: 12.4s\n",
      "45:\tlearn: 0.9145438\ttest: 0.8015619\tbest: 0.8505341 (8)\ttotal: 1m 54s\tremaining: 9.96s\n",
      "46:\tlearn: 0.9148684\ttest: 0.8020427\tbest: 0.8505341 (8)\ttotal: 1m 57s\tremaining: 7.48s\n",
      "47:\tlearn: 0.9157197\ttest: 0.7968442\tbest: 0.8505341 (8)\ttotal: 1m 59s\tremaining: 4.99s\n",
      "48:\tlearn: 0.9159367\ttest: 0.7968442\tbest: 0.8505341 (8)\ttotal: 2m 2s\tremaining: 2.5s\n",
      "49:\tlearn: 0.9161072\ttest: 0.7911703\tbest: 0.8505341 (8)\ttotal: 2m 5s\tremaining: 0us\n",
      "bestTest = 0.8505340707\n",
      "bestIteration = 8\n",
      "Shrink model to first 9 iterations.\n"
     ]
    },
    {
     "data": {
      "text/plain": [
       "<catboost.core.CatBoostClassifier at 0x7f71f464c4c0>"
      ]
     },
     "execution_count": 250,
     "metadata": {},
     "output_type": "execute_result"
    }
   ],
   "source": [
    "model_d.fit(train_pool, eval_set=test_pool)"
   ]
  },
  {
   "cell_type": "code",
   "execution_count": 251,
   "metadata": {
    "ExecuteTime": {
     "end_time": "2023-11-11T23:56:32.514952100Z",
     "start_time": "2023-11-11T23:56:32.496441600Z"
    }
   },
   "outputs": [],
   "source": [
    "model_d.save_model('model_days')"
   ]
  },
  {
   "cell_type": "code",
   "execution_count": 252,
   "metadata": {
    "ExecuteTime": {
     "end_time": "2023-11-11T23:56:32.825867500Z",
     "start_time": "2023-11-11T23:56:32.514952100Z"
    },
    "collapsed": false
   },
   "outputs": [
    {
     "data": {
      "image/png": "[encoded data removed]",
      "text/plain": [
       "<Figure size 720x432 with 1 Axes>"
      ]
     },
     "metadata": {},
     "output_type": "display_data"
    }
   ],
   "source": [
    "feature_importances = model_d.get_feature_importance(type='PredictionValuesChange')\n",
    "plt.figure(figsize=(10, 6))\n",
    "plt.barh(df.drop(['wagnum', 'plan_date', 'zavod_build', 'cnsi_probeg_kr', 'target_month', 'target_day'], axis=1).columns.to_numpy(), feature_importances)\n",
    "plt.title('CatBoost Feature Importance')\n",
    "plt.xlabel('Importance')\n",
    "plt.ylabel('Features')\n",
    "plt.show()"
   ]
  },
  {
   "cell_type": "markdown",
   "metadata": {},
   "source": [
    "# Test prediction"
   ]
  },
  {
   "cell_type": "code",
   "execution_count": 50,
   "metadata": {
    "ExecuteTime": {
     "end_time": "2023-11-11T21:35:40.463701900Z",
     "start_time": "2023-11-11T21:35:40.393468300Z"
    },
    "collapsed": false
   },
   "outputs": [],
   "source": [
    "## Чтение данных"
   ]
  },
  {
   "cell_type": "code",
   "execution_count": 94,
   "metadata": {
    "ExecuteTime": {
     "end_time": "2023-11-11T22:00:54.656887900Z",
     "start_time": "2023-11-11T22:00:52.355481700Z"
    }
   },
   "outputs": [],
   "source": [
    "path_test = './test'\n",
    "\n",
    "# данные по дислокации\n",
    "dislok_pred = pd.read_parquet(path_train + '/dislok_wagons.parquet').convert_dtypes() # предыдущие данные по дислокации\n",
    "dislok = pd.read_parquet(path_test + '/dislok_wagons.parquet').convert_dtypes()\n",
    "\n",
    "dislok = pd.concat([dislok, dislok_pred])\n",
    "\n",
    "# данные по текущим ремонтам\n",
    "pr_rem = pd.read_parquet(path_test + '/pr_rems.parquet').convert_dtypes()\n",
    "# список вагонов с остаточным пробегом на момент прогноза\n",
    "wag_prob = pd.read_parquet(path_test + '/wagons_probeg_ownersip.parquet').convert_dtypes()\n",
    " # параметры вагона\n",
    "wag_param = pd.read_parquet(path_test + '/wag_params.parquet').convert_dtypes()\n",
    "wag_param = wag_param.drop_duplicates(subset='wagnum', keep='last')\n",
    "# таргет по прогноза выбытия вагонов в ПР на месяц и на 10 дней\n",
    "target = pd.read_csv('./target' +'/y_predict_submit_example.csv').convert_dtypes()\n",
    " # текущие ремонты вагонов\n",
    "tr_rem = pd.read_parquet(path_test + '/tr_rems.parquet').convert_dtypes()"
   ]
  },
  {
   "cell_type": "code",
   "execution_count": 95,
   "metadata": {
    "ExecuteTime": {
     "end_time": "2023-11-11T22:00:57.163366100Z",
     "start_time": "2023-11-11T22:00:57.138551300Z"
    }
   },
   "outputs": [],
   "source": [
    "month_to_predict = pd.to_datetime('2023-03-01') # предсказываем на март"
   ]
  },
  {
   "cell_type": "code",
   "execution_count": 96,
   "metadata": {
    "ExecuteTime": {
     "end_time": "2023-11-11T22:00:58.954490300Z",
     "start_time": "2023-11-11T22:00:58.894559700Z"
    },
    "collapsed": false
   },
   "outputs": [
    {
     "data": {
      "text/html": [
       "<div>\n",
       "<style scoped>\n",
       "    .dataframe tbody tr th:only-of-type {\n",
       "        vertical-align: middle;\n",
       "    }\n",
       "\n",
       "    .dataframe tbody tr th {\n",
       "        vertical-align: top;\n",
       "    }\n",
       "\n",
       "    .dataframe thead th {\n",
       "        text-align: right;\n",
       "    }\n",
       "</style>\n",
       "<table border=\"1\" class=\"dataframe\">\n",
       "  <thead>\n",
       "    <tr style=\"text-align: right;\">\n",
       "      <th></th>\n",
       "      <th>plan_date</th>\n",
       "      <th>wagnum</th>\n",
       "      <th>date_kap</th>\n",
       "      <th>date_dep</th>\n",
       "      <th>kod_vrab</th>\n",
       "      <th>date_pl_rem</th>\n",
       "      <th>id_road_disl</th>\n",
       "      <th>st_id_dest</th>\n",
       "      <th>id_road_dest</th>\n",
       "      <th>st_id_send</th>\n",
       "      <th>id_road_send</th>\n",
       "      <th>ost_prob</th>\n",
       "      <th>isload</th>\n",
       "      <th>fr_id</th>\n",
       "      <th>last_fr_id</th>\n",
       "      <th>distance</th>\n",
       "    </tr>\n",
       "  </thead>\n",
       "  <tbody>\n",
       "    <tr>\n",
       "      <th>0</th>\n",
       "      <td>2023-02-01</td>\n",
       "      <td>56</td>\n",
       "      <td>2018-11-30</td>\n",
       "      <td>2021-11-10</td>\n",
       "      <td>0</td>\n",
       "      <td>2024-11-10</td>\n",
       "      <td>40</td>\n",
       "      <td>498</td>\n",
       "      <td>3</td>\n",
       "      <td>16008</td>\n",
       "      <td>40</td>\n",
       "      <td>110121</td>\n",
       "      <td>1</td>\n",
       "      <td>1671</td>\n",
       "      <td>1671</td>\n",
       "      <td>-1</td>\n",
       "    </tr>\n",
       "    <tr>\n",
       "      <th>1</th>\n",
       "      <td>2023-02-02</td>\n",
       "      <td>56</td>\n",
       "      <td>2018-11-30</td>\n",
       "      <td>2021-11-10</td>\n",
       "      <td>0</td>\n",
       "      <td>2024-11-10</td>\n",
       "      <td>40</td>\n",
       "      <td>498</td>\n",
       "      <td>3</td>\n",
       "      <td>16008</td>\n",
       "      <td>40</td>\n",
       "      <td>109917</td>\n",
       "      <td>1</td>\n",
       "      <td>1671</td>\n",
       "      <td>1671</td>\n",
       "      <td>940</td>\n",
       "    </tr>\n",
       "    <tr>\n",
       "      <th>2</th>\n",
       "      <td>2023-02-03</td>\n",
       "      <td>56</td>\n",
       "      <td>2018-11-30</td>\n",
       "      <td>2021-11-10</td>\n",
       "      <td>0</td>\n",
       "      <td>2024-11-10</td>\n",
       "      <td>38</td>\n",
       "      <td>498</td>\n",
       "      <td>3</td>\n",
       "      <td>16008</td>\n",
       "      <td>40</td>\n",
       "      <td>109058</td>\n",
       "      <td>1</td>\n",
       "      <td>1671</td>\n",
       "      <td>1671</td>\n",
       "      <td>934</td>\n",
       "    </tr>\n",
       "    <tr>\n",
       "      <th>3</th>\n",
       "      <td>2023-02-04</td>\n",
       "      <td>56</td>\n",
       "      <td>2018-11-30</td>\n",
       "      <td>2021-11-10</td>\n",
       "      <td>0</td>\n",
       "      <td>2024-11-10</td>\n",
       "      <td>38</td>\n",
       "      <td>498</td>\n",
       "      <td>3</td>\n",
       "      <td>16008</td>\n",
       "      <td>40</td>\n",
       "      <td>108354</td>\n",
       "      <td>1</td>\n",
       "      <td>1671</td>\n",
       "      <td>1671</td>\n",
       "      <td>933</td>\n",
       "    </tr>\n",
       "    <tr>\n",
       "      <th>4</th>\n",
       "      <td>2023-02-05</td>\n",
       "      <td>56</td>\n",
       "      <td>2018-11-30</td>\n",
       "      <td>2021-11-10</td>\n",
       "      <td>0</td>\n",
       "      <td>2024-11-10</td>\n",
       "      <td>36</td>\n",
       "      <td>498</td>\n",
       "      <td>3</td>\n",
       "      <td>16008</td>\n",
       "      <td>40</td>\n",
       "      <td>107469</td>\n",
       "      <td>1</td>\n",
       "      <td>1671</td>\n",
       "      <td>1671</td>\n",
       "      <td>937</td>\n",
       "    </tr>\n",
       "  </tbody>\n",
       "</table>\n",
       "</div>"
      ],
      "text/plain": [
       "   plan_date  wagnum   date_kap   date_dep  kod_vrab date_pl_rem  \\\n",
       "0 2023-02-01      56 2018-11-30 2021-11-10         0  2024-11-10   \n",
       "1 2023-02-02      56 2018-11-30 2021-11-10         0  2024-11-10   \n",
       "2 2023-02-03      56 2018-11-30 2021-11-10         0  2024-11-10   \n",
       "3 2023-02-04      56 2018-11-30 2021-11-10         0  2024-11-10   \n",
       "4 2023-02-05      56 2018-11-30 2021-11-10         0  2024-11-10   \n",
       "\n",
       "   id_road_disl  st_id_dest  id_road_dest  st_id_send  id_road_send  ost_prob  \\\n",
       "0            40         498             3       16008            40    110121   \n",
       "1            40         498             3       16008            40    109917   \n",
       "2            38         498             3       16008            40    109058   \n",
       "3            38         498             3       16008            40    108354   \n",
       "4            36         498             3       16008            40    107469   \n",
       "\n",
       "   isload  fr_id  last_fr_id  distance  \n",
       "0       1   1671        1671        -1  \n",
       "1       1   1671        1671       940  \n",
       "2       1   1671        1671       934  \n",
       "3       1   1671        1671       933  \n",
       "4       1   1671        1671       937  "
      ]
     },
     "execution_count": 96,
     "metadata": {},
     "output_type": "execute_result"
    }
   ],
   "source": [
    "dislok.head()"
   ]
  },
  {
   "cell_type": "code",
   "execution_count": 97,
   "metadata": {},
   "outputs": [
    {
     "data": {
      "text/html": [
       "<div>\n",
       "<style scoped>\n",
       "    .dataframe tbody tr th:only-of-type {\n",
       "        vertical-align: middle;\n",
       "    }\n",
       "\n",
       "    .dataframe tbody tr th {\n",
       "        vertical-align: top;\n",
       "    }\n",
       "\n",
       "    .dataframe thead th {\n",
       "        text-align: right;\n",
       "    }\n",
       "</style>\n",
       "<table border=\"1\" class=\"dataframe\">\n",
       "  <thead>\n",
       "    <tr style=\"text-align: right;\">\n",
       "      <th></th>\n",
       "      <th>wagnum</th>\n",
       "      <th>plan_date</th>\n",
       "      <th>distance_since_kap</th>\n",
       "      <th>distance_since_dep</th>\n",
       "      <th>last_kap</th>\n",
       "      <th>last_dep</th>\n",
       "      <th>date_pl_rem</th>\n",
       "      <th>ost_probeg</th>\n",
       "      <th>distance_since_kap_loaded</th>\n",
       "      <th>distance_since_dep_loaded</th>\n",
       "    </tr>\n",
       "  </thead>\n",
       "  <tbody>\n",
       "    <tr>\n",
       "      <th>0</th>\n",
       "      <td>0</td>\n",
       "      <td>2023-02-28</td>\n",
       "      <td>123945</td>\n",
       "      <td>123945</td>\n",
       "      <td>16</td>\n",
       "      <td>2482</td>\n",
       "      <td>3577</td>\n",
       "      <td>45806</td>\n",
       "      <td>34836</td>\n",
       "      <td>34836</td>\n",
       "    </tr>\n",
       "    <tr>\n",
       "      <th>1</th>\n",
       "      <td>1</td>\n",
       "      <td>2023-02-28</td>\n",
       "      <td>211516</td>\n",
       "      <td>211516</td>\n",
       "      <td>2993</td>\n",
       "      <td>1911</td>\n",
       "      <td>3999</td>\n",
       "      <td>93045</td>\n",
       "      <td>46369</td>\n",
       "      <td>46369</td>\n",
       "    </tr>\n",
       "    <tr>\n",
       "      <th>2</th>\n",
       "      <td>2</td>\n",
       "      <td>2023-02-28</td>\n",
       "      <td>176625</td>\n",
       "      <td>176625</td>\n",
       "      <td>-1602</td>\n",
       "      <td>3000</td>\n",
       "      <td>4048</td>\n",
       "      <td>52247</td>\n",
       "      <td>59359</td>\n",
       "      <td>59359</td>\n",
       "    </tr>\n",
       "    <tr>\n",
       "      <th>3</th>\n",
       "      <td>3</td>\n",
       "      <td>2023-02-28</td>\n",
       "      <td>136568</td>\n",
       "      <td>136568</td>\n",
       "      <td>-1313</td>\n",
       "      <td>2987</td>\n",
       "      <td>3908</td>\n",
       "      <td>52596</td>\n",
       "      <td>76165</td>\n",
       "      <td>76165</td>\n",
       "    </tr>\n",
       "    <tr>\n",
       "      <th>4</th>\n",
       "      <td>4</td>\n",
       "      <td>2023-02-28</td>\n",
       "      <td>34305</td>\n",
       "      <td>34305</td>\n",
       "      <td>-1307</td>\n",
       "      <td>3053</td>\n",
       "      <td>4149</td>\n",
       "      <td>87594</td>\n",
       "      <td>8705</td>\n",
       "      <td>8705</td>\n",
       "    </tr>\n",
       "  </tbody>\n",
       "</table>\n",
       "</div>"
      ],
      "text/plain": [
       "   wagnum  plan_date  distance_since_kap  distance_since_dep  last_kap  \\\n",
       "0       0 2023-02-28              123945              123945        16   \n",
       "1       1 2023-02-28              211516              211516      2993   \n",
       "2       2 2023-02-28              176625              176625     -1602   \n",
       "3       3 2023-02-28              136568              136568     -1313   \n",
       "4       4 2023-02-28               34305               34305     -1307   \n",
       "\n",
       "   last_dep  date_pl_rem  ost_probeg  distance_since_kap_loaded  \\\n",
       "0      2482         3577       45806                      34836   \n",
       "1      1911         3999       93045                      46369   \n",
       "2      3000         4048       52247                      59359   \n",
       "3      2987         3908       52596                      76165   \n",
       "4      3053         4149       87594                       8705   \n",
       "\n",
       "   distance_since_dep_loaded  \n",
       "0                      34836  \n",
       "1                      46369  \n",
       "2                      59359  \n",
       "3                      76165  \n",
       "4                       8705  "
      ]
     },
     "execution_count": 97,
     "metadata": {},
     "output_type": "execute_result"
    }
   ],
   "source": [
    "from IPython.display import clear_output\n",
    "\n",
    "dislok_prep = dislok[['wagnum', 'plan_date']][dislok.plan_date < month_to_predict].groupby('wagnum', as_index=False).max()\n",
    "\n",
    "dislok_prep['distance_since_kap'] = 0\n",
    "dislok_prep['distance_since_dep'] = 0\n",
    "dislok_prep['last_kap'] = 0\n",
    "dislok_prep['last_dep'] = 0\n",
    "dislok_prep['date_pl_rem'] = 0\n",
    "dislok_prep['ost_probeg'] = 0\n",
    "\n",
    "dislok_prep['distance_since_kap_loaded'] = 0\n",
    "dislok_prep['distance_since_dep_loaded'] = 0\n",
    "\n",
    "for wagnum in dislok_prep.index:\n",
    "    print(f'runing {wagnum} out of {len(dislok_prep.index)}')\n",
    "    tmp_df = dislok.loc[(dislok.wagnum == wagnum) \\\n",
    "                        & (dislok.plan_date < month_to_predict)\n",
    "                        & (dislok.distance >= 0)]\n",
    "    \n",
    "    last_kap = tmp_df.date_kap.max()\n",
    "    last_dep = tmp_df.date_dep.max()\n",
    "    \n",
    "    dislok_prep.at[wagnum, 'date_pl_rem'] = (tmp_df.date_pl_rem.max().to_numpy().astype('datetime64[D]') - date_min).astype('timedelta64[D]').astype('float')\n",
    "    \n",
    "    if pd.isnull(last_kap):\n",
    "        last_kap = tmp_df.plan_date.min()\n",
    "    if pd.isnull(last_dep):\n",
    "        last_dep = tmp_df.plan_date.min()\n",
    "    \n",
    "    dislok_prep.at[wagnum, 'distance_since_kap'] = tmp_df.loc[tmp_df.plan_date >= last_kap].distance.sum()\n",
    "    dislok_prep.at[wagnum, 'distance_since_dep'] = tmp_df.loc[tmp_df.plan_date >= last_dep].distance.sum()\n",
    "    dislok_prep.at[wagnum, 'distance_since_kap_loaded'] = tmp_df.loc[(tmp_df.plan_date >= last_kap) \\\n",
    "                                                                    & (tmp_df.isload == 1)].distance.sum()\n",
    "    dislok_prep.at[wagnum, 'distance_since_dep_loaded'] = tmp_df.loc[(tmp_df.plan_date >= last_dep) \\\n",
    "                                                                    & (tmp_df.isload == 1)].distance.sum()\n",
    "    dislok_prep.at[wagnum, 'last_kap'] = (last_kap.to_numpy().astype('datetime64[D]') - date_min).astype('timedelta64[D]').astype('float')\n",
    "    dislok_prep.at[wagnum, 'last_dep'] = (last_dep.to_numpy().astype('datetime64[D]') - date_min).astype('timedelta64[D]').astype('float')\n",
    "    tmp_df = tmp_df.loc[tmp_df.ost_prob.apply(lambda x: type(x) == int)]\n",
    "    if len(tmp_df) > 0:\n",
    "        dislok_prep.at[wagnum, 'ost_probeg'] = tmp_df.loc[tmp_df.plan_date > min(last_kap, last_dep)].ost_prob.min()\n",
    "    else:\n",
    "        dislok_prep.at[wagnum, 'ost_probeg'] = 1e8\n",
    "    clear_output()\n",
    "dislok_prep.head()"
   ]
  },
  {
   "cell_type": "code",
   "execution_count": 98,
   "metadata": {
    "ExecuteTime": {
     "end_time": "2023-11-11T22:48:35.606014800Z",
     "start_time": "2023-11-11T22:48:35.434160100Z"
    }
   },
   "outputs": [],
   "source": [
    "wagons = np.intersect1d(target.wagnum.to_numpy(), dislok_prep.wagnum.to_numpy())"
   ]
  },
  {
   "cell_type": "code",
   "execution_count": 99,
   "metadata": {
    "ExecuteTime": {
     "end_time": "2023-11-11T22:48:37.007143400Z",
     "start_time": "2023-11-11T22:48:36.936483800Z"
    }
   },
   "outputs": [],
   "source": [
    "dislok_slice = dislok_prep.loc[dislok_prep.wagnum.isin(wagons)].sort_values(by=['wagnum'])\n",
    "target_slice = target.loc[target.wagnum.isin(wagons)].sort_values(by=['wagnum'])"
   ]
  },
  {
   "cell_type": "code",
   "execution_count": 221,
   "metadata": {
    "ExecuteTime": {
     "end_time": "2023-11-11T23:44:31.632652300Z",
     "start_time": "2023-11-11T23:44:31.529060600Z"
    }
   },
   "outputs": [],
   "source": [
    "df = dislok_slice.join(wag_param[['wagnum','model', 'gruz', 'zavod_build', 'ownertype', 'cnsi_probeg_kr', 'norma_km']].set_index('wagnum'), on='wagnum', how='left')"
   ]
  },
  {
   "cell_type": "code",
   "execution_count": 223,
   "metadata": {
    "ExecuteTime": {
     "end_time": "2023-11-11T23:44:49.090484700Z",
     "start_time": "2023-11-11T23:44:49.024776600Z"
    }
   },
   "outputs": [],
   "source": [
    "df['distance_since_kap'] = df['norma_km'] - df['distance_since_kap']\n",
    "df['distance_since_dep'] = df['norma_km'] - df['distance_since_dep']\n",
    "df['distance_since_kap_loaded'] = df['norma_km'] - df['distance_since_kap_loaded']\n",
    "df['distance_since_dep_loaded'] = df['norma_km'] - df['distance_since_dep_loaded']\n",
    "\n",
    "df = df.drop(['norma_km'], axis = 1)"
   ]
  },
  {
   "cell_type": "code",
   "execution_count": 224,
   "metadata": {
    "ExecuteTime": {
     "end_time": "2023-11-11T23:44:50.832730800Z",
     "start_time": "2023-11-11T23:44:50.825027200Z"
    }
   },
   "outputs": [
    {
     "data": {
      "text/html": [
       "<div>\n",
       "<style scoped>\n",
       "    .dataframe tbody tr th:only-of-type {\n",
       "        vertical-align: middle;\n",
       "    }\n",
       "\n",
       "    .dataframe tbody tr th {\n",
       "        vertical-align: top;\n",
       "    }\n",
       "\n",
       "    .dataframe thead th {\n",
       "        text-align: right;\n",
       "    }\n",
       "</style>\n",
       "<table border=\"1\" class=\"dataframe\">\n",
       "  <thead>\n",
       "    <tr style=\"text-align: right;\">\n",
       "      <th></th>\n",
       "      <th>wagnum</th>\n",
       "      <th>plan_date</th>\n",
       "      <th>distance_since_kap</th>\n",
       "      <th>distance_since_dep</th>\n",
       "      <th>last_kap</th>\n",
       "      <th>last_dep</th>\n",
       "      <th>date_pl_rem</th>\n",
       "      <th>ost_probeg</th>\n",
       "      <th>distance_since_kap_loaded</th>\n",
       "      <th>distance_since_dep_loaded</th>\n",
       "      <th>model</th>\n",
       "      <th>gruz</th>\n",
       "      <th>zavod_build</th>\n",
       "      <th>ownertype</th>\n",
       "      <th>cnsi_probeg_kr</th>\n",
       "    </tr>\n",
       "  </thead>\n",
       "  <tbody>\n",
       "    <tr>\n",
       "      <th>0</th>\n",
       "      <td>0</td>\n",
       "      <td>2023-02-28</td>\n",
       "      <td>36055</td>\n",
       "      <td>36055</td>\n",
       "      <td>16</td>\n",
       "      <td>2482</td>\n",
       "      <td>3577</td>\n",
       "      <td>45806</td>\n",
       "      <td>125164</td>\n",
       "      <td>125164</td>\n",
       "      <td>11-276</td>\n",
       "      <td>680</td>\n",
       "      <td>1</td>\n",
       "      <td>0</td>\n",
       "      <td>160</td>\n",
       "    </tr>\n",
       "    <tr>\n",
       "      <th>1</th>\n",
       "      <td>1</td>\n",
       "      <td>2023-02-28</td>\n",
       "      <td>-51516</td>\n",
       "      <td>-51516</td>\n",
       "      <td>2993</td>\n",
       "      <td>1911</td>\n",
       "      <td>3999</td>\n",
       "      <td>93045</td>\n",
       "      <td>113631</td>\n",
       "      <td>113631</td>\n",
       "      <td>11-066-04</td>\n",
       "      <td>680</td>\n",
       "      <td>1</td>\n",
       "      <td>0</td>\n",
       "      <td>160</td>\n",
       "    </tr>\n",
       "    <tr>\n",
       "      <th>2</th>\n",
       "      <td>2</td>\n",
       "      <td>2023-02-28</td>\n",
       "      <td>-66625</td>\n",
       "      <td>-66625</td>\n",
       "      <td>-1602</td>\n",
       "      <td>3000</td>\n",
       "      <td>4048</td>\n",
       "      <td>52247</td>\n",
       "      <td>50641</td>\n",
       "      <td>50641</td>\n",
       "      <td>Р-9494-01</td>\n",
       "      <td>680</td>\n",
       "      <td>1</td>\n",
       "      <td>0</td>\n",
       "      <td>160</td>\n",
       "    </tr>\n",
       "    <tr>\n",
       "      <th>3</th>\n",
       "      <td>3</td>\n",
       "      <td>2023-02-28</td>\n",
       "      <td>-26568</td>\n",
       "      <td>-26568</td>\n",
       "      <td>-1313</td>\n",
       "      <td>2987</td>\n",
       "      <td>3908</td>\n",
       "      <td>52596</td>\n",
       "      <td>33835</td>\n",
       "      <td>33835</td>\n",
       "      <td>11-066-04</td>\n",
       "      <td>680</td>\n",
       "      <td>1</td>\n",
       "      <td>0</td>\n",
       "      <td>160</td>\n",
       "    </tr>\n",
       "    <tr>\n",
       "      <th>4</th>\n",
       "      <td>4</td>\n",
       "      <td>2023-02-28</td>\n",
       "      <td>125695</td>\n",
       "      <td>125695</td>\n",
       "      <td>-1307</td>\n",
       "      <td>3053</td>\n",
       "      <td>4149</td>\n",
       "      <td>87594</td>\n",
       "      <td>151295</td>\n",
       "      <td>151295</td>\n",
       "      <td>11-217</td>\n",
       "      <td>680</td>\n",
       "      <td>23</td>\n",
       "      <td>0</td>\n",
       "      <td>160</td>\n",
       "    </tr>\n",
       "    <tr>\n",
       "      <th>...</th>\n",
       "      <td>...</td>\n",
       "      <td>...</td>\n",
       "      <td>...</td>\n",
       "      <td>...</td>\n",
       "      <td>...</td>\n",
       "      <td>...</td>\n",
       "      <td>...</td>\n",
       "      <td>...</td>\n",
       "      <td>...</td>\n",
       "      <td>...</td>\n",
       "      <td>...</td>\n",
       "      <td>...</td>\n",
       "      <td>...</td>\n",
       "      <td>...</td>\n",
       "      <td>...</td>\n",
       "    </tr>\n",
       "    <tr>\n",
       "      <th>33972</th>\n",
       "      <td>33972</td>\n",
       "      <td>2023-02-28</td>\n",
       "      <td>84389</td>\n",
       "      <td>84389</td>\n",
       "      <td>-976</td>\n",
       "      <td>2448</td>\n",
       "      <td>3543</td>\n",
       "      <td>1222</td>\n",
       "      <td>128322</td>\n",
       "      <td>128322</td>\n",
       "      <td>12-532-02</td>\n",
       "      <td>700</td>\n",
       "      <td>0</td>\n",
       "      <td>0</td>\n",
       "      <td>160</td>\n",
       "    </tr>\n",
       "    <tr>\n",
       "      <th>33973</th>\n",
       "      <td>33973</td>\n",
       "      <td>2023-02-28</td>\n",
       "      <td>74804</td>\n",
       "      <td>74804</td>\n",
       "      <td>-976</td>\n",
       "      <td>2705</td>\n",
       "      <td>3800</td>\n",
       "      <td>131</td>\n",
       "      <td>123818</td>\n",
       "      <td>123818</td>\n",
       "      <td>12-532-02</td>\n",
       "      <td>700</td>\n",
       "      <td>0</td>\n",
       "      <td>0</td>\n",
       "      <td>160</td>\n",
       "    </tr>\n",
       "    <tr>\n",
       "      <th>33974</th>\n",
       "      <td>33974</td>\n",
       "      <td>2023-02-28</td>\n",
       "      <td>42416</td>\n",
       "      <td>42416</td>\n",
       "      <td>-792</td>\n",
       "      <td>2324</td>\n",
       "      <td>3420</td>\n",
       "      <td>24643</td>\n",
       "      <td>70401</td>\n",
       "      <td>70401</td>\n",
       "      <td>12-532-02</td>\n",
       "      <td>700</td>\n",
       "      <td>0</td>\n",
       "      <td>0</td>\n",
       "      <td>160</td>\n",
       "    </tr>\n",
       "    <tr>\n",
       "      <th>33975</th>\n",
       "      <td>33975</td>\n",
       "      <td>2023-02-28</td>\n",
       "      <td>13726</td>\n",
       "      <td>13726</td>\n",
       "      <td>-858</td>\n",
       "      <td>2592</td>\n",
       "      <td>3687</td>\n",
       "      <td>1358</td>\n",
       "      <td>99205</td>\n",
       "      <td>99205</td>\n",
       "      <td>12-532-02</td>\n",
       "      <td>700</td>\n",
       "      <td>0</td>\n",
       "      <td>0</td>\n",
       "      <td>160</td>\n",
       "    </tr>\n",
       "    <tr>\n",
       "      <th>33976</th>\n",
       "      <td>33976</td>\n",
       "      <td>2023-02-28</td>\n",
       "      <td>78336</td>\n",
       "      <td>78336</td>\n",
       "      <td>-976</td>\n",
       "      <td>2570</td>\n",
       "      <td>3665</td>\n",
       "      <td>774</td>\n",
       "      <td>119192</td>\n",
       "      <td>119192</td>\n",
       "      <td>12-532-02</td>\n",
       "      <td>700</td>\n",
       "      <td>0</td>\n",
       "      <td>0</td>\n",
       "      <td>160</td>\n",
       "    </tr>\n",
       "  </tbody>\n",
       "</table>\n",
       "<p>33707 rows × 15 columns</p>\n",
       "</div>"
      ],
      "text/plain": [
       "      wagnum  plan_date  distance_since_kap  distance_since_dep  last_kap  \\\n",
       "0          0 2023-02-28               36055               36055        16   \n",
       "1          1 2023-02-28              -51516              -51516      2993   \n",
       "2          2 2023-02-28              -66625              -66625     -1602   \n",
       "3          3 2023-02-28              -26568              -26568     -1313   \n",
       "4          4 2023-02-28              125695              125695     -1307   \n",
       "...      ...        ...                 ...                 ...       ...   \n",
       "33972  33972 2023-02-28               84389               84389      -976   \n",
       "33973  33973 2023-02-28               74804               74804      -976   \n",
       "33974  33974 2023-02-28               42416               42416      -792   \n",
       "33975  33975 2023-02-28               13726               13726      -858   \n",
       "33976  33976 2023-02-28               78336               78336      -976   \n",
       "\n",
       "       last_dep  date_pl_rem  ost_probeg  distance_since_kap_loaded  \\\n",
       "0          2482         3577       45806                     125164   \n",
       "1          1911         3999       93045                     113631   \n",
       "2          3000         4048       52247                      50641   \n",
       "3          2987         3908       52596                      33835   \n",
       "4          3053         4149       87594                     151295   \n",
       "...         ...          ...         ...                        ...   \n",
       "33972      2448         3543        1222                     128322   \n",
       "33973      2705         3800         131                     123818   \n",
       "33974      2324         3420       24643                      70401   \n",
       "33975      2592         3687        1358                      99205   \n",
       "33976      2570         3665         774                     119192   \n",
       "\n",
       "       distance_since_dep_loaded      model  gruz  zavod_build  ownertype  \\\n",
       "0                         125164     11-276   680            1          0   \n",
       "1                         113631  11-066-04   680            1          0   \n",
       "2                          50641  Р-9494-01   680            1          0   \n",
       "3                          33835  11-066-04   680            1          0   \n",
       "4                         151295     11-217   680           23          0   \n",
       "...                          ...        ...   ...          ...        ...   \n",
       "33972                     128322  12-532-02   700            0          0   \n",
       "33973                     123818  12-532-02   700            0          0   \n",
       "33974                      70401  12-532-02   700            0          0   \n",
       "33975                      99205  12-532-02   700            0          0   \n",
       "33976                     119192  12-532-02   700            0          0   \n",
       "\n",
       "       cnsi_probeg_kr  \n",
       "0                 160  \n",
       "1                 160  \n",
       "2                 160  \n",
       "3                 160  \n",
       "4                 160  \n",
       "...               ...  \n",
       "33972             160  \n",
       "33973             160  \n",
       "33974             160  \n",
       "33975             160  \n",
       "33976             160  \n",
       "\n",
       "[33707 rows x 15 columns]"
      ]
     },
     "execution_count": 224,
     "metadata": {},
     "output_type": "execute_result"
    }
   ],
   "source": [
    "df"
   ]
  },
  {
   "cell_type": "code",
   "execution_count": 226,
   "metadata": {
    "ExecuteTime": {
     "end_time": "2023-11-11T23:45:04.944907600Z",
     "start_time": "2023-11-11T23:45:04.894945100Z"
    }
   },
   "outputs": [
    {
     "data": {
      "text/plain": [
       "(33707, 11)"
      ]
     },
     "execution_count": 226,
     "metadata": {},
     "output_type": "execute_result"
    }
   ],
   "source": [
    "X = df.drop(['wagnum', 'plan_date', 'zavod_build', 'cnsi_probeg_kr'], axis=1).to_numpy() # Матрица для предсказания\n",
    "X.shape"
   ]
  },
  {
   "cell_type": "code",
   "execution_count": 227,
   "metadata": {
    "ExecuteTime": {
     "end_time": "2023-11-11T23:45:13.198093100Z",
     "start_time": "2023-11-11T23:45:13.034212800Z"
    }
   },
   "outputs": [],
   "source": [
    "y_pred1 = model.predict(X) # предсказание месяца\n",
    "y_pred2 = model_d.predict(X) # предсказание дня"
   ]
  },
  {
   "cell_type": "code",
   "execution_count": 228,
   "metadata": {
    "ExecuteTime": {
     "end_time": "2023-11-11T23:45:16.078377600Z",
     "start_time": "2023-11-11T23:45:16.033891400Z"
    },
    "collapsed": false
   },
   "outputs": [],
   "source": [
    "df.reset_index(inplace=True)"
   ]
  },
  {
   "cell_type": "code",
   "execution_count": 229,
   "metadata": {
    "ExecuteTime": {
     "end_time": "2023-11-11T23:45:17.879977500Z",
     "start_time": "2023-11-11T23:45:17.808657600Z"
    },
    "collapsed": false
   },
   "outputs": [
    {
     "data": {
      "text/html": [
       "<div>\n",
       "<style scoped>\n",
       "    .dataframe tbody tr th:only-of-type {\n",
       "        vertical-align: middle;\n",
       "    }\n",
       "\n",
       "    .dataframe tbody tr th {\n",
       "        vertical-align: top;\n",
       "    }\n",
       "\n",
       "    .dataframe thead th {\n",
       "        text-align: right;\n",
       "    }\n",
       "</style>\n",
       "<table border=\"1\" class=\"dataframe\">\n",
       "  <thead>\n",
       "    <tr style=\"text-align: right;\">\n",
       "      <th></th>\n",
       "      <th>index</th>\n",
       "      <th>wagnum</th>\n",
       "      <th>plan_date</th>\n",
       "      <th>distance_since_kap</th>\n",
       "      <th>distance_since_dep</th>\n",
       "      <th>last_kap</th>\n",
       "      <th>last_dep</th>\n",
       "      <th>date_pl_rem</th>\n",
       "      <th>ost_probeg</th>\n",
       "      <th>distance_since_kap_loaded</th>\n",
       "      <th>distance_since_dep_loaded</th>\n",
       "      <th>model</th>\n",
       "      <th>gruz</th>\n",
       "      <th>zavod_build</th>\n",
       "      <th>ownertype</th>\n",
       "      <th>cnsi_probeg_kr</th>\n",
       "    </tr>\n",
       "  </thead>\n",
       "  <tbody>\n",
       "    <tr>\n",
       "      <th>0</th>\n",
       "      <td>0</td>\n",
       "      <td>0</td>\n",
       "      <td>2023-02-28</td>\n",
       "      <td>36055</td>\n",
       "      <td>36055</td>\n",
       "      <td>16</td>\n",
       "      <td>2482</td>\n",
       "      <td>3577</td>\n",
       "      <td>45806</td>\n",
       "      <td>125164</td>\n",
       "      <td>125164</td>\n",
       "      <td>11-276</td>\n",
       "      <td>680</td>\n",
       "      <td>1</td>\n",
       "      <td>0</td>\n",
       "      <td>160</td>\n",
       "    </tr>\n",
       "    <tr>\n",
       "      <th>1</th>\n",
       "      <td>1</td>\n",
       "      <td>1</td>\n",
       "      <td>2023-02-28</td>\n",
       "      <td>-51516</td>\n",
       "      <td>-51516</td>\n",
       "      <td>2993</td>\n",
       "      <td>1911</td>\n",
       "      <td>3999</td>\n",
       "      <td>93045</td>\n",
       "      <td>113631</td>\n",
       "      <td>113631</td>\n",
       "      <td>11-066-04</td>\n",
       "      <td>680</td>\n",
       "      <td>1</td>\n",
       "      <td>0</td>\n",
       "      <td>160</td>\n",
       "    </tr>\n",
       "    <tr>\n",
       "      <th>2</th>\n",
       "      <td>2</td>\n",
       "      <td>2</td>\n",
       "      <td>2023-02-28</td>\n",
       "      <td>-66625</td>\n",
       "      <td>-66625</td>\n",
       "      <td>-1602</td>\n",
       "      <td>3000</td>\n",
       "      <td>4048</td>\n",
       "      <td>52247</td>\n",
       "      <td>50641</td>\n",
       "      <td>50641</td>\n",
       "      <td>Р-9494-01</td>\n",
       "      <td>680</td>\n",
       "      <td>1</td>\n",
       "      <td>0</td>\n",
       "      <td>160</td>\n",
       "    </tr>\n",
       "    <tr>\n",
       "      <th>3</th>\n",
       "      <td>3</td>\n",
       "      <td>3</td>\n",
       "      <td>2023-02-28</td>\n",
       "      <td>-26568</td>\n",
       "      <td>-26568</td>\n",
       "      <td>-1313</td>\n",
       "      <td>2987</td>\n",
       "      <td>3908</td>\n",
       "      <td>52596</td>\n",
       "      <td>33835</td>\n",
       "      <td>33835</td>\n",
       "      <td>11-066-04</td>\n",
       "      <td>680</td>\n",
       "      <td>1</td>\n",
       "      <td>0</td>\n",
       "      <td>160</td>\n",
       "    </tr>\n",
       "    <tr>\n",
       "      <th>4</th>\n",
       "      <td>4</td>\n",
       "      <td>4</td>\n",
       "      <td>2023-02-28</td>\n",
       "      <td>125695</td>\n",
       "      <td>125695</td>\n",
       "      <td>-1307</td>\n",
       "      <td>3053</td>\n",
       "      <td>4149</td>\n",
       "      <td>87594</td>\n",
       "      <td>151295</td>\n",
       "      <td>151295</td>\n",
       "      <td>11-217</td>\n",
       "      <td>680</td>\n",
       "      <td>23</td>\n",
       "      <td>0</td>\n",
       "      <td>160</td>\n",
       "    </tr>\n",
       "    <tr>\n",
       "      <th>...</th>\n",
       "      <td>...</td>\n",
       "      <td>...</td>\n",
       "      <td>...</td>\n",
       "      <td>...</td>\n",
       "      <td>...</td>\n",
       "      <td>...</td>\n",
       "      <td>...</td>\n",
       "      <td>...</td>\n",
       "      <td>...</td>\n",
       "      <td>...</td>\n",
       "      <td>...</td>\n",
       "      <td>...</td>\n",
       "      <td>...</td>\n",
       "      <td>...</td>\n",
       "      <td>...</td>\n",
       "      <td>...</td>\n",
       "    </tr>\n",
       "    <tr>\n",
       "      <th>33702</th>\n",
       "      <td>33972</td>\n",
       "      <td>33972</td>\n",
       "      <td>2023-02-28</td>\n",
       "      <td>84389</td>\n",
       "      <td>84389</td>\n",
       "      <td>-976</td>\n",
       "      <td>2448</td>\n",
       "      <td>3543</td>\n",
       "      <td>1222</td>\n",
       "      <td>128322</td>\n",
       "      <td>128322</td>\n",
       "      <td>12-532-02</td>\n",
       "      <td>700</td>\n",
       "      <td>0</td>\n",
       "      <td>0</td>\n",
       "      <td>160</td>\n",
       "    </tr>\n",
       "    <tr>\n",
       "      <th>33703</th>\n",
       "      <td>33973</td>\n",
       "      <td>33973</td>\n",
       "      <td>2023-02-28</td>\n",
       "      <td>74804</td>\n",
       "      <td>74804</td>\n",
       "      <td>-976</td>\n",
       "      <td>2705</td>\n",
       "      <td>3800</td>\n",
       "      <td>131</td>\n",
       "      <td>123818</td>\n",
       "      <td>123818</td>\n",
       "      <td>12-532-02</td>\n",
       "      <td>700</td>\n",
       "      <td>0</td>\n",
       "      <td>0</td>\n",
       "      <td>160</td>\n",
       "    </tr>\n",
       "    <tr>\n",
       "      <th>33704</th>\n",
       "      <td>33974</td>\n",
       "      <td>33974</td>\n",
       "      <td>2023-02-28</td>\n",
       "      <td>42416</td>\n",
       "      <td>42416</td>\n",
       "      <td>-792</td>\n",
       "      <td>2324</td>\n",
       "      <td>3420</td>\n",
       "      <td>24643</td>\n",
       "      <td>70401</td>\n",
       "      <td>70401</td>\n",
       "      <td>12-532-02</td>\n",
       "      <td>700</td>\n",
       "      <td>0</td>\n",
       "      <td>0</td>\n",
       "      <td>160</td>\n",
       "    </tr>\n",
       "    <tr>\n",
       "      <th>33705</th>\n",
       "      <td>33975</td>\n",
       "      <td>33975</td>\n",
       "      <td>2023-02-28</td>\n",
       "      <td>13726</td>\n",
       "      <td>13726</td>\n",
       "      <td>-858</td>\n",
       "      <td>2592</td>\n",
       "      <td>3687</td>\n",
       "      <td>1358</td>\n",
       "      <td>99205</td>\n",
       "      <td>99205</td>\n",
       "      <td>12-532-02</td>\n",
       "      <td>700</td>\n",
       "      <td>0</td>\n",
       "      <td>0</td>\n",
       "      <td>160</td>\n",
       "    </tr>\n",
       "    <tr>\n",
       "      <th>33706</th>\n",
       "      <td>33976</td>\n",
       "      <td>33976</td>\n",
       "      <td>2023-02-28</td>\n",
       "      <td>78336</td>\n",
       "      <td>78336</td>\n",
       "      <td>-976</td>\n",
       "      <td>2570</td>\n",
       "      <td>3665</td>\n",
       "      <td>774</td>\n",
       "      <td>119192</td>\n",
       "      <td>119192</td>\n",
       "      <td>12-532-02</td>\n",
       "      <td>700</td>\n",
       "      <td>0</td>\n",
       "      <td>0</td>\n",
       "      <td>160</td>\n",
       "    </tr>\n",
       "  </tbody>\n",
       "</table>\n",
       "<p>33707 rows × 16 columns</p>\n",
       "</div>"
      ],
      "text/plain": [
       "       index wagnum  plan_date  distance_since_kap  distance_since_dep  \\\n",
       "0          0      0 2023-02-28               36055               36055   \n",
       "1          1      1 2023-02-28              -51516              -51516   \n",
       "2          2      2 2023-02-28              -66625              -66625   \n",
       "3          3      3 2023-02-28              -26568              -26568   \n",
       "4          4      4 2023-02-28              125695              125695   \n",
       "...      ...    ...        ...                 ...                 ...   \n",
       "33702  33972  33972 2023-02-28               84389               84389   \n",
       "33703  33973  33973 2023-02-28               74804               74804   \n",
       "33704  33974  33974 2023-02-28               42416               42416   \n",
       "33705  33975  33975 2023-02-28               13726               13726   \n",
       "33706  33976  33976 2023-02-28               78336               78336   \n",
       "\n",
       "       last_kap  last_dep  date_pl_rem  ost_probeg  distance_since_kap_loaded  \\\n",
       "0            16      2482         3577       45806                     125164   \n",
       "1          2993      1911         3999       93045                     113631   \n",
       "2         -1602      3000         4048       52247                      50641   \n",
       "3         -1313      2987         3908       52596                      33835   \n",
       "4         -1307      3053         4149       87594                     151295   \n",
       "...         ...       ...          ...         ...                        ...   \n",
       "33702      -976      2448         3543        1222                     128322   \n",
       "33703      -976      2705         3800         131                     123818   \n",
       "33704      -792      2324         3420       24643                      70401   \n",
       "33705      -858      2592         3687        1358                      99205   \n",
       "33706      -976      2570         3665         774                     119192   \n",
       "\n",
       "       distance_since_dep_loaded      model  gruz  zavod_build  ownertype  \\\n",
       "0                         125164     11-276   680            1          0   \n",
       "1                         113631  11-066-04   680            1          0   \n",
       "2                          50641  Р-9494-01   680            1          0   \n",
       "3                          33835  11-066-04   680            1          0   \n",
       "4                         151295     11-217   680           23          0   \n",
       "...                          ...        ...   ...          ...        ...   \n",
       "33702                     128322  12-532-02   700            0          0   \n",
       "33703                     123818  12-532-02   700            0          0   \n",
       "33704                      70401  12-532-02   700            0          0   \n",
       "33705                      99205  12-532-02   700            0          0   \n",
       "33706                     119192  12-532-02   700            0          0   \n",
       "\n",
       "       cnsi_probeg_kr  \n",
       "0                 160  \n",
       "1                 160  \n",
       "2                 160  \n",
       "3                 160  \n",
       "4                 160  \n",
       "...               ...  \n",
       "33702             160  \n",
       "33703             160  \n",
       "33704             160  \n",
       "33705             160  \n",
       "33706             160  \n",
       "\n",
       "[33707 rows x 16 columns]"
      ]
     },
     "execution_count": 229,
     "metadata": {},
     "output_type": "execute_result"
    }
   ],
   "source": [
    "df"
   ]
  },
  {
   "cell_type": "code",
   "execution_count": 230,
   "metadata": {
    "ExecuteTime": {
     "end_time": "2023-11-11T23:46:57.490941400Z",
     "start_time": "2023-11-11T23:45:40.271124700Z"
    }
   },
   "outputs": [],
   "source": [
    "from copy import deepcopy\n",
    "\n",
    "target_pred = deepcopy(target)\n",
    "\n",
    "# записываем предсказание по вагонам\n",
    "for i, row in df.iterrows():\n",
    "    wag = row['wagnum']\n",
    "    \n",
    "    target_pred.at[target_pred.wagnum == wag, 'target_month'] = max(y_pred1[i], y_pred2[i])\n",
    "    target_pred.at[target_pred.wagnum == wag, 'target_day'] = y_pred2[i]"
   ]
  },
  {
   "cell_type": "code",
   "execution_count": 231,
   "metadata": {
    "ExecuteTime": {
     "end_time": "2023-11-11T23:46:57.525635400Z",
     "start_time": "2023-11-11T23:46:57.512141400Z"
    }
   },
   "outputs": [
    {
     "data": {
      "text/plain": [
       "33707"
      ]
     },
     "execution_count": 231,
     "metadata": {},
     "output_type": "execute_result"
    }
   ],
   "source": [
    "len(target_pred)"
   ]
  },
  {
   "cell_type": "code",
   "execution_count": 232,
   "metadata": {
    "ExecuteTime": {
     "end_time": "2023-11-11T23:46:57.527640Z",
     "start_time": "2023-11-11T23:46:57.512141400Z"
    }
   },
   "outputs": [
    {
     "data": {
      "text/html": [
       "<div>\n",
       "<style scoped>\n",
       "    .dataframe tbody tr th:only-of-type {\n",
       "        vertical-align: middle;\n",
       "    }\n",
       "\n",
       "    .dataframe tbody tr th {\n",
       "        vertical-align: top;\n",
       "    }\n",
       "\n",
       "    .dataframe thead th {\n",
       "        text-align: right;\n",
       "    }\n",
       "</style>\n",
       "<table border=\"1\" class=\"dataframe\">\n",
       "  <thead>\n",
       "    <tr style=\"text-align: right;\">\n",
       "      <th></th>\n",
       "      <th>wagnum</th>\n",
       "      <th>month</th>\n",
       "      <th>target_month</th>\n",
       "      <th>target_day</th>\n",
       "    </tr>\n",
       "  </thead>\n",
       "  <tbody>\n",
       "    <tr>\n",
       "      <th>11228</th>\n",
       "      <td>28985</td>\n",
       "      <td>2023-03-01</td>\n",
       "      <td>1</td>\n",
       "      <td>1</td>\n",
       "    </tr>\n",
       "    <tr>\n",
       "      <th>24691</th>\n",
       "      <td>33936</td>\n",
       "      <td>2023-03-01</td>\n",
       "      <td>1</td>\n",
       "      <td>1</td>\n",
       "    </tr>\n",
       "    <tr>\n",
       "      <th>13035</th>\n",
       "      <td>22701</td>\n",
       "      <td>2023-03-01</td>\n",
       "      <td>1</td>\n",
       "      <td>1</td>\n",
       "    </tr>\n",
       "    <tr>\n",
       "      <th>69</th>\n",
       "      <td>5768</td>\n",
       "      <td>2023-03-01</td>\n",
       "      <td>0</td>\n",
       "      <td>0</td>\n",
       "    </tr>\n",
       "    <tr>\n",
       "      <th>7799</th>\n",
       "      <td>33706</td>\n",
       "      <td>2023-03-01</td>\n",
       "      <td>0</td>\n",
       "      <td>0</td>\n",
       "    </tr>\n",
       "    <tr>\n",
       "      <th>20410</th>\n",
       "      <td>25656</td>\n",
       "      <td>2023-03-01</td>\n",
       "      <td>1</td>\n",
       "      <td>1</td>\n",
       "    </tr>\n",
       "    <tr>\n",
       "      <th>2763</th>\n",
       "      <td>11001</td>\n",
       "      <td>2023-03-01</td>\n",
       "      <td>0</td>\n",
       "      <td>0</td>\n",
       "    </tr>\n",
       "    <tr>\n",
       "      <th>4181</th>\n",
       "      <td>19767</td>\n",
       "      <td>2023-03-01</td>\n",
       "      <td>0</td>\n",
       "      <td>0</td>\n",
       "    </tr>\n",
       "    <tr>\n",
       "      <th>14986</th>\n",
       "      <td>6211</td>\n",
       "      <td>2023-03-01</td>\n",
       "      <td>0</td>\n",
       "      <td>0</td>\n",
       "    </tr>\n",
       "    <tr>\n",
       "      <th>33104</th>\n",
       "      <td>2494</td>\n",
       "      <td>2023-03-01</td>\n",
       "      <td>0</td>\n",
       "      <td>0</td>\n",
       "    </tr>\n",
       "  </tbody>\n",
       "</table>\n",
       "</div>"
      ],
      "text/plain": [
       "       wagnum       month  target_month  target_day\n",
       "11228   28985  2023-03-01             1           1\n",
       "24691   33936  2023-03-01             1           1\n",
       "13035   22701  2023-03-01             1           1\n",
       "69       5768  2023-03-01             0           0\n",
       "7799    33706  2023-03-01             0           0\n",
       "20410   25656  2023-03-01             1           1\n",
       "2763    11001  2023-03-01             0           0\n",
       "4181    19767  2023-03-01             0           0\n",
       "14986    6211  2023-03-01             0           0\n",
       "33104    2494  2023-03-01             0           0"
      ]
     },
     "execution_count": 232,
     "metadata": {},
     "output_type": "execute_result"
    }
   ],
   "source": [
    "target_pred.sample(10)"
   ]
  },
  {
   "cell_type": "code",
   "execution_count": 233,
   "metadata": {
    "ExecuteTime": {
     "end_time": "2023-11-11T23:46:57.631225100Z",
     "start_time": "2023-11-11T23:46:57.513055600Z"
    }
   },
   "outputs": [],
   "source": [
    "target_pred.to_csv('y_test_pred.csv') # записываем предсказание"
   ]
  },
  {
   "cell_type": "code",
   "execution_count": 31,
   "metadata": {
    "pycharm": {
     "name": "#%%\n"
    }
   },
   "outputs": [],
   "source": []
  }
 ],
 "metadata": {
  "kernelspec": {
   "display_name": "Python 3 (ipykernel)",
   "language": "python",
   "name": "python3"
  },
  "language_info": {
   "codemirror_mode": {
    "name": "ipython",
    "version": 3
   },
   "file_extension": ".py",
   "mimetype": "text/x-python",
   "name": "python",
   "nbconvert_exporter": "python",
   "pygments_lexer": "ipython3",
   "version": "3.8.8"
  }
 },
 "nbformat": 4,
 "nbformat_minor": 1
}
